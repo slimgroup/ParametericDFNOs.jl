{
 "cells": [
  {
   "cell_type": "code",
   "execution_count": 1,
   "metadata": {},
   "outputs": [
    {
     "name": "stderr",
     "output_type": "stream",
     "text": [
      "\u001b[32m\u001b[1m  Activating\u001b[22m\u001b[39m project at `~/Desktop/Research/Code/dfno/dfno`\n"
     ]
    },
    {
     "name": "stderr",
     "output_type": "stream",
     "text": [
      "┌ Info: OMEinsum loaded the CUDA module successfully\n",
      "└ @ OMEinsum /Users/richardr2926/.julia/packages/OMEinsum/lTBCn/src/cueinsum.jl:117\n",
      "┌ Info: FNO4CO2 is using GPU\n",
      "└ @ FNO4CO2 /Users/richardr2926/Desktop/Research/Code/FNO4CO2/src/FNO4CO2.jl:15\n"
     ]
    }
   ],
   "source": [
    "using Pkg\n",
    "Pkg.activate(\"./\")\n",
    "# Pkg.resolve()\n",
    "# Pkg.instantiate()\n",
    "\n",
    "using DrWatson\n",
    "using MPI\n",
    "using ParametricOperators\n",
    "using Parameters\n",
    "using Profile\n",
    "using Shuffle\n",
    "using Zygote\n",
    "using PyPlot\n",
    "using NNlib\n",
    "using NNlibCUDA\n",
    "using FNO4CO2\n",
    "using JLD2\n",
    "using Flux, Random, FFTW\n",
    "using MAT, Statistics, LinearAlgebra\n",
    "using CUDA\n",
    "using ProgressMeter\n",
    "using InvertibleNetworks:ActNorm\n",
    "using Random\n",
    "matplotlib.use(\"Agg\")"
   ]
  },
  {
   "cell_type": "code",
   "execution_count": 2,
   "metadata": {},
   "outputs": [
    {
     "data": {
      "text/plain": [
       "ModelConfig"
      ]
     },
     "metadata": {},
     "output_type": "display_data"
    }
   ],
   "source": [
    "update = ParametricOperators.update!\n",
    "\n",
    "\n",
    "@with_kw struct ModelConfig\n",
    "    nx::Int = 64\n",
    "    ny::Int = 64\n",
    "    nz::Int = 64\n",
    "    nt_in::Int = 51\n",
    "    nt_out::Int = 51\n",
    "    nc_in::Int = 4\n",
    "    nc_mid::Int = 128\n",
    "    nc_out::Int = 1\n",
    "    nc_lift::Int = 20\n",
    "    mx::Int = 4\n",
    "    my::Int = 4\n",
    "    mz::Int = 4\n",
    "    mt::Int = 4\n",
    "    n_blocks::Int = 1\n",
    "    n_batch::Int = 1\n",
    "    dtype::DataType = Float32\n",
    "    partition::Vector{Int} = [1]\n",
    "end"
   ]
  },
  {
   "cell_type": "code",
   "execution_count": 3,
   "metadata": {},
   "outputs": [
    {
     "name": "stderr",
     "output_type": "stream",
     "text": [
      "┌ Info: The GPU function is being called but the GPU is not accessible. \n",
      "│ Defaulting back to the CPU. (No action is required if you want to run on the CPU).\n",
      "└ @ Flux /Users/richardr2926/.julia/packages/Flux/n3cOc/src/functor.jl:301\n"
     ]
    },
    {
     "data": {
      "text/plain": [
       "forward (generic function with 1 method)"
      ]
     },
     "metadata": {},
     "output_type": "display_data"
    }
   ],
   "source": [
    "function PO_FNO4CO2(config::ModelConfig)\n",
    "\n",
    "    T = config.dtype\n",
    "\n",
    "    function lifting(in_shape, lift_dim, out_features, T=Float32)\n",
    "\n",
    "        net = ParIdentity(T, 1) \n",
    "    \n",
    "        for dim in eachindex(in_shape)\n",
    "            if dim == lift_dim\n",
    "                layer = ParMatrix(T, out_features, in_shape[dim])\n",
    "            else \n",
    "                layer = ParIdentity(T, in_shape[dim])\n",
    "            end\n",
    "            \n",
    "            if dim == 1\n",
    "                net = layer\n",
    "            else\n",
    "                net = layer ⊗ net\n",
    "            end\n",
    "        end\n",
    "    \n",
    "        return net\n",
    "    end\n",
    "\n",
    "    function spectral_convolution()\n",
    "\n",
    "        # Build 4D Fourier transform with real-valued FFT along time\n",
    "        fourier_x = ParDFT(Complex{T}, config.nx)\n",
    "        fourier_y = ParDFT(Complex{T}, config.ny)\n",
    "        # fourier_z = ParDFT(Complex{T}, config.nz)\n",
    "        fourier_t = ParDFT(T, config.nt_out)\n",
    "\n",
    "        # Build restrictions to low-frequency modes\n",
    "        restrict_x = ParRestriction(Complex{T}, Range(fourier_x), [1:config.mx, config.nx-config.mx+1:config.nx])\n",
    "        restrict_y = ParRestriction(Complex{T}, Range(fourier_y), [1:config.my, config.ny-config.my+1:config.ny])\n",
    "        # restrict_z = ParRestriction(Complex{T}, Range(fourier_z), [1:config.mz, config.nz-config.mz+1:config.nz])\n",
    "        restrict_t = ParRestriction(Complex{T}, Range(fourier_t), [1:config.mt])\n",
    "\n",
    "        # weight_mix = ParIdentity(Complex{T}, Range(restrict_dft) ÷ config.nc_lift) ⊗\n",
    "        #             ParMatrix(Complex{T}, config.nc_lift, config.nc_lift)\n",
    "\n",
    "        input_shape = (config.nc_lift, 2*config.mx, 2*config.my, config.mt)\n",
    "        weight_shape = (config.nc_lift, config.nc_lift, 2*config.mx, 2*config.my, config.mt)\n",
    "\n",
    "        input_order = (1, 2, 3, 4)\n",
    "        weight_order = (5, 1, 2, 3, 4)\n",
    "        target_order = (5, 2, 3, 4)\n",
    "\n",
    "        weight_mix = ParMatrixN(Complex{T}, weight_order, weight_shape, input_order, input_shape, target_order, input_shape) \n",
    "\n",
    "        # Setup FFT-restrict pattern with Kroneckers\n",
    "        restrict_dft = (restrict_t * fourier_t) ⊗ (restrict_y * fourier_y) ⊗ (restrict_x * fourier_x) ⊗ ParIdentity(T, config.nc_lift)\n",
    "        # restrict_dft = (restrict_t ⊗ restrict_y ⊗ restrict_x) * (fourier_t ⊗ fourier_y ⊗ fourier_x) ⊗ ParIdentity(T, config.nc_lift)\n",
    "\n",
    "        sconv = restrict_dft' * weight_mix * restrict_dft\n",
    "\n",
    "        return sconv\n",
    "    end\n",
    "\n",
    "    shape = [config.nc_in, config.nx, config.ny, config.nt_in]\n",
    "\n",
    "    # Lift Channel dimension\n",
    "    lifts = ParIdentity(Float32,round(Int, prod(shape)/config.nc_in)) ⊗ ParMatrix(Float32, config.nc_lift, config.nc_in) # lifting(shape, 1, config.nc_lift)\n",
    "    shape[1] = config.nc_lift\n",
    "\n",
    "    sconvs = []\n",
    "    convs = []\n",
    "    projects = []\n",
    "\n",
    "    for i in 1:config.n_blocks\n",
    "\n",
    "        sconv_layer = spectral_convolution()\n",
    "        conv_layer = ParIdentity(Float32,round(Int, prod(shape)/config.nc_lift)) ⊗ ParMatrix(Float32, config.nc_lift, config.nc_lift) # lifting(shape, 1, config.nc_lift)\n",
    "\n",
    "        push!(sconvs, sconv_layer)\n",
    "        push!(convs, conv_layer)\n",
    "    end\n",
    "\n",
    "    # Uplift channel dimension once more\n",
    "    uc = ParIdentity(Float32,round(Int, prod(shape)/config.nc_lift)) ⊗ ParMatrix(Float32, config.nc_mid, config.nc_lift) # lifting(shape, 1, config.nc_mid)\n",
    "    shape[1] = config.nc_mid\n",
    "    push!(projects, uc)\n",
    "\n",
    "    # Project channel dimension\n",
    "    pc = ParIdentity(Float32,round(Int, prod(shape)/config.nc_mid)) ⊗ ParMatrix(Float32, config.nc_out, config.nc_mid) # lifting(shape, 1, config.nc_out)\n",
    "    shape[1] = config.nc_out\n",
    "    push!(projects, pc)\n",
    "\n",
    "    return lifts, sconvs, convs, projects\n",
    "end\n",
    "\n",
    "modes = 4\n",
    "width = 20\n",
    "\n",
    "config = ModelConfig(mx=modes, my=modes, mt=modes, nc_lift=width, n_blocks=1, n_batch=2)\n",
    "lifts, sconvs, convs, projects = PO_FNO4CO2(config)\n",
    "\n",
    "# To Load Saved Dict: \n",
    "# key = load(\"./data/3D_FNO/.jld2\")[\"key\"]\n",
    "\n",
    "θ = init(lifts)\n",
    "for sconv in sconvs\n",
    "    init!(sconv, θ)\n",
    "end\n",
    "for conv in convs\n",
    "    init!(conv, θ)\n",
    "end\n",
    "init!(projects[1], θ)\n",
    "init!(projects[2], θ)\n",
    "\n",
    "gpu_flag && (global θ = gpu(θ))\n",
    "\n",
    "function xytcb_to_cxytb(x)\n",
    "    return permutedims(x, [4,1,2,3,5])\n",
    "end\n",
    "\n",
    "function cxytb_to_xytcb(x)\n",
    "    return permutedims(x, [2,3,4,1,5])\n",
    "end\n",
    "\n",
    "function forward(θ, x::Any)\n",
    "    x = lifts(θ) * x\n",
    "    for i in 1:config.n_blocks\n",
    "\n",
    "        x = (sconvs[i](θ) * x) + (convs[i](θ) * x)\n",
    "        x = cxytb_to_xytcb(reshape(x, (config.nc_lift, config.nx, config.ny, config.nt_in, :)))\n",
    "\n",
    "        N = ndims(x)\n",
    "        ϵ = 1f-5\n",
    "\n",
    "        reduce_dims = [1:N-2; N]\n",
    "\n",
    "        μ = mean(x; dims=reduce_dims)\n",
    "        σ² = var(x; mean=μ, dims=reduce_dims, corrected=false)\n",
    "\n",
    "        prod = config.nc_lift * config.nx * config.ny * config.nt_in\n",
    "\n",
    "        x = (x .- μ) ./ sqrt.(σ² .+ ϵ)\n",
    "        x = reshape(xytcb_to_cxytb(x), (prod, :))\n",
    "        \n",
    "        if i < config.n_blocks\n",
    "            x = relu.(x)\n",
    "        end\n",
    "    end\n",
    "\n",
    "    x = projects[1](θ) * x\n",
    "    x = relu.(x)\n",
    "    x = projects[2](θ) * x\n",
    "    return x\n",
    "end\n",
    "\n",
    "# x_train = rand(DDT(lifts), Domain(lifts))\n",
    "# y_train = rand(RDT(projects), Range(projects))\n",
    "\n",
    "# y = forward(θ, x_train)\n",
    "# grads = gradient(params -> Flux.mse(forward(params, x_train), y_train), θ)"
   ]
  },
  {
   "cell_type": "code",
   "execution_count": 4,
   "metadata": {},
   "outputs": [],
   "source": [
    "# Define raw data directory\n",
    "mkpath(datadir(\"training-data\"))\n",
    "perm_path = datadir(\"training-data\", \"perm_gridspacing15.0.mat\")\n",
    "conc_path = datadir(\"training-data\", \"conc_gridspacing15.0.mat\")\n",
    "\n",
    "# Download the dataset into the data directory if it does not exist\n",
    "if ~isfile(perm_path)\n",
    "    run(`wget https://www.dropbox.com/s/o35wvnlnkca9r8k/'\n",
    "        'perm_gridspacing15.0.mat -q -O $perm_path`)\n",
    "end\n",
    "if ~isfile(conc_path)\n",
    "    run(`wget https://www.dropbox.com/s/mzi0xgr0z3l553a/'\n",
    "        'conc_gridspacing15.0.mat -q -O $conc_path`)\n",
    "end"
   ]
  },
  {
   "cell_type": "code",
   "execution_count": 5,
   "metadata": {},
   "outputs": [
    {
     "data": {
      "text/plain": [
       "\"/Users/richardr2926/Desktop/Research/Code/dfno/dfno/plots/3D_FNO/exp_name=2phaseflow\""
      ]
     },
     "metadata": {},
     "output_type": "display_data"
    }
   ],
   "source": [
    "\n",
    "perm = matread(perm_path)[\"perm\"];\n",
    "conc = matread(conc_path)[\"conc\"];\n",
    "\n",
    "nsamples = size(perm, 3)\n",
    "\n",
    "ntrain = 1000\n",
    "nvalid = 100\n",
    "\n",
    "batch_size = config.n_batch\n",
    "learning_rate = 1f-4\n",
    "\n",
    "epochs = 1\n",
    "\n",
    "modes = 4\n",
    "width = 20\n",
    "\n",
    "n = (config.nx,config.ny)\n",
    "#d = (15f0,15f0) # dx, dy in m\n",
    "d = (1f0/config.nx, 1f0/config.ny)\n",
    "\n",
    "s = 1\n",
    "\n",
    "nt = 51\n",
    "#dt = 20f0    # dt in day\n",
    "dt = 1f0/(nt-1)\n",
    "\n",
    "AN = ActNorm(ntrain)\n",
    "AN.forward(reshape(perm[1:s:end,1:s:end,1:ntrain], n[1], n[2], 1, ntrain));\n",
    "\n",
    "y_train = permutedims(conc[1:nt,1:s:end,1:s:end,1:ntrain],[2,3,1,4]);\n",
    "y_valid = permutedims(conc[1:nt,1:s:end,1:s:end,ntrain+1:ntrain+nvalid],[2,3,1,4]);\n",
    "\n",
    "grid = gen_grid(n, d, nt, dt)\n",
    "\n",
    "x_train = perm_to_tensor(perm[1:s:end,1:s:end,1:ntrain],grid,AN);\n",
    "x_valid = perm_to_tensor(perm[1:s:end,1:s:end,ntrain+1:ntrain+nvalid],grid,AN);\n",
    "x_valid_dfno = xytcb_to_cxytb(x_valid)\n",
    "\n",
    "# value, x, y, t\n",
    "\n",
    "NN = Net3d(modes, width)\n",
    "gpu_flag && (global NN = NN |> gpu)\n",
    "\n",
    "Flux.trainmode!(NN, true)\n",
    "w = Flux.params(NN)\n",
    "\n",
    "opt = Flux.Optimise.ADAMW(learning_rate, (0.9f0, 0.999f0), 1f-4)\n",
    "nbatches = Int(ntrain/batch_size)\n",
    "\n",
    "Loss = zeros(Float32,epochs*nbatches)\n",
    "Loss_valid = zeros(Float32, epochs)\n",
    "prog = Progress(round(Int, ntrain * epochs / batch_size))\n",
    "\n",
    "# plot figure\n",
    "x_plot = x_valid[:, :, :, :, 1:1]\n",
    "y_plot = y_valid[:, :, :, 1:1]\n",
    "x_plot_dfno = vec(xytcb_to_cxytb(x_plot))\n",
    "\n",
    "# Define result directory\n",
    "\n",
    "sim_name = \"3D_FNO\"\n",
    "exp_name = \"2phaseflow\"\n",
    "\n",
    "save_dict = @strdict exp_name\n",
    "plot_path = plotsdir(sim_name, savename(save_dict; digits=6))"
   ]
  },
  {
   "cell_type": "code",
   "execution_count": 6,
   "metadata": {},
   "outputs": [],
   "source": [
    "ep = 1\n",
    "b = 1\n",
    "\n",
    "Base.flush(Base.stdout)\n",
    "idx_e = reshape(randperm(ntrain), batch_size, nbatches)\n",
    "\n",
    "x = x_train[:, :, :, :, idx_e[:,b]]\n",
    "y = y_train[:, :, :, idx_e[:,b]]\n",
    "\n",
    "x_dfno = reshape(xytcb_to_cxytb(x), (:, config.n_batch))\n",
    "y_dfno = reshape(y, (:, config.n_batch));"
   ]
  },
  {
   "cell_type": "code",
   "execution_count": 7,
   "metadata": {},
   "outputs": [
    {
     "name": "stdout",
     "output_type": "stream",
     "text": [
      "DFNO Loss: 2.330852"
     ]
    },
    {
     "name": "stdout",
     "output_type": "stream",
     "text": [
      ". NN Loss: 2.7075887\n"
     ]
    }
   ],
   "source": [
    "grads_dfno = gradient(params -> norm(relu01(forward(params, x_dfno))-y_dfno)/norm(y_dfno), θ)[1]\n",
    "grads = gradient(w) do\n",
    "    global loss = norm(relu01(NN(x))-y)/norm(y)\n",
    "    return loss\n",
    "end\n",
    "\n",
    "loss_dfno = norm(relu01(forward(θ, x_dfno))-y_dfno)/norm(y_dfno)\n",
    "loss = norm(relu01(NN(x))-y)/norm(y)\n",
    "\n",
    "# loss_dfno = norm(relu01(forward(θ, x_dfno)))/norm(y_dfno)\n",
    "# loss = norm(relu01(NN(x)))/norm(y)\n",
    "\n",
    "println(\"DFNO Loss: \", loss_dfno, \". NN Loss: \", loss)"
   ]
  },
  {
   "cell_type": "code",
   "execution_count": 13,
   "metadata": {},
   "outputs": [
    {
     "data": {
      "text/plain": [
       "33391.81f0"
      ]
     },
     "metadata": {},
     "output_type": "display_data"
    }
   ],
   "source": [
    "sum(vec(NN(x)) - vec(forward(θ, x_dfno)))"
   ]
  },
  {
   "cell_type": "code",
   "execution_count": 35,
   "metadata": {},
   "outputs": [
    {
     "name": "stdout",
     "output_type": "stream",
     "text": [
      "ParMatrixN{5, 4, 4, ComplexF32}((5, 1, 2, 3, 4), (20, 20, 8, 8, 4), (1, 2, 3, 4), (20, 8, 8, 4), (5, 2, 3, 4), (20, 8, 8, 4), UUID(\"f9aa5075-86e6-4af4-a5c0-b8042cae3e56\"))\n"
     ]
    }
   ],
   "source": [
    "o = 1\n",
    "test_w1 = 0\n",
    "\n",
    "for (v, p) in θ\n",
    "    # println(v)\n",
    "    if o == -1\n",
    "        println(v)\n",
    "        test_w1 = p\n",
    "    end\n",
    "    o += 1\n",
    "end"
   ]
  },
  {
   "cell_type": "code",
   "execution_count": 36,
   "metadata": {},
   "outputs": [
    {
     "name": "stdout",
     "output_type": "stream",
     "text": [
      "(20, 20, 8, 8, 4, 1)\n"
     ]
    }
   ],
   "source": [
    "o = 1\n",
    "test_w2 = 0\n",
    "for p in w\n",
    "    # println(size(p))\n",
    "    if o == -1\n",
    "        println(size(p))\n",
    "        test_w2 = p\n",
    "    end\n",
    "    o += 1\n",
    "end"
   ]
  },
  {
   "cell_type": "code",
   "execution_count": 37,
   "metadata": {},
   "outputs": [
    {
     "data": {
      "text/plain": [
       "0.0f0 + 0.0f0im"
      ]
     },
     "metadata": {},
     "output_type": "display_data"
    }
   ],
   "source": [
    "sum(test_w1 - test_w2)"
   ]
  },
  {
   "cell_type": "code",
   "execution_count": 10,
   "metadata": {},
   "outputs": [],
   "source": [
    "function gen(shape...)\n",
    "    Random.seed!(1234)\n",
    "    return Flux.glorot_uniform(shape...)\n",
    "    # return rand(Float32, shape...) / convert(Float32, sqrt(prod(shape)))\n",
    "end\n",
    "\n",
    "function compl_mul(x::AbstractArray{T, 5}, y::AbstractArray{T, 5}) where T\n",
    "    # complex multiplication\n",
    "    y =  permutedims(y,[5,3,4,2,1]) # (oixyt) -> (txyio) bc x is (txyib)\n",
    "    # x in (modes1, modes2, modes3, input channels, batchsize)\n",
    "    # y in (modes1, modes2, modes3, input channels, output channels)\n",
    "    # output in (modes1,modes2,modes3,output channels,batchsize)\n",
    "    x_per = permutedims(x,[5,4,1,2,3]) # batchsize*in_channels*modes1*modes2*modes3\n",
    "    y_per = permutedims(y,[4,5,1,2,3]) # in_channels*out_channels*modes1*modes2*modes3\n",
    "    x_resh = reshape(x_per,size(x_per,1),size(x_per,2),:) # batchsize*in_channels*(modes1*modes2*modes3)\n",
    "    y_resh = reshape(y_per,size(y_per,1),size(y_per,2),:) # in_channels*out_channels*(modes1*modes2*modes3)\n",
    "    out_resh = batched_mul(x_resh,y_resh) # batchsize*out_channels*(modes1*modes2*modes3)\n",
    "    out_per = reshape(out_resh,size(out_resh,1),size(out_resh,2),size(x,1),size(x,2),size(x,3)) # batchsize*out_channels*modes1*modes2*modes3\n",
    "    out = permutedims(out_per,[3,4,5,2,1])\n",
    "    return out\n",
    "end\n",
    "\n",
    "T = Float32\n",
    "\n",
    "conv = Flux.Conv((1, 1, 1), config.nc_in=>config.nc_lift; init=gen, bias=false)\n",
    "xt = conv(x) # xytcb\n",
    "temp = conv(x) # xytcb\n",
    "\n",
    "xt = permutedims(xt, [3,1,2,4,5]) # txycb\n",
    "x_ft = rfft(xt,[1,2,3])      ## full size FFT\n",
    "\n",
    "Random.seed!(1234)\n",
    "weights = rand(Complex{T}, config.nc_lift, config.nc_lift, 8, 8, 4, 1) ./ convert(T, sqrt(config.nc_lift * config.nc_lift * 8 * 8 * 4))\n",
    "\n",
    "modes1 = config.mt\n",
    "modes2 = config.mx\n",
    "modes3 = config.my\n",
    "\n",
    "# only keep low frequency coefficients weights[1,1,1,:,:,1]\n",
    "out_ft = cat(cat(cat(compl_mul(x_ft[1:modes1, 1:modes2, 1:modes3, :,:], weights[:,:,1:4,1:4,:,1]),\n",
    "                zeros(Complex{T}, modes1, modes2, size(x_ft,3)-2*modes3, size(x_ft,4), size(x_ft,5)), \n",
    "                compl_mul(x_ft[1:modes1, 1:modes2, end-modes3+1:end,:,:], weights[:,:,5:8,1:4,:,1]),dims=3),\n",
    "                zeros(Complex{T}, modes1, size(x_ft, 2)-2*modes2, size(x_ft,3), size(x_ft,4), size(x_ft,5)),\n",
    "                cat(compl_mul(x_ft[1:modes1, end-modes2+1:end, 1:modes3,:,:], weights[:,:,1:4,5:8,:,1]),\n",
    "                zeros(Complex{T}, modes1, modes2, size(x_ft,3)-2*modes3, size(x_ft,4), size(x_ft,5)),\n",
    "                compl_mul(x_ft[1:modes1, end-modes2+1:end, end-modes3+1:end,:,:], weights[:,:,5:8,5:8,:,1]),dims=3)\n",
    "                ,dims=2),\n",
    "                zeros(Complex{T}, size(x_ft,1)-modes1, size(x_ft,2), size(x_ft,3), size(x_ft,4), size(x_ft,5)),dims=1)\n",
    "\n",
    "out_ft = irfft(out_ft, size(xt,1),[1,2,3]) # nt * nx * ny * channels * batch\n",
    "out_ft = permutedims(out_ft, [2,3,1,4,5]);"
   ]
  },
  {
   "cell_type": "code",
   "execution_count": 11,
   "metadata": {},
   "outputs": [],
   "source": [
    "lifting = ParIdentity(T, config.nx*config.ny*config.nt_in) ⊗ ParMatrix(T, config.nc_lift, config.nc_in)\n",
    "θ_new = init(lifting)\n",
    "\n",
    "fourier_x = ParDFT(Complex{T}, config.nx)\n",
    "fourier_y = ParDFT(Complex{T}, config.ny)\n",
    "# fourier_z = ParDFT(Complex{T}, config.nz)\n",
    "fourier_t = ParDFT(T, config.nt_out)\n",
    "\n",
    "# Build restrictions to low-frequency modes\n",
    "restrict_x = ParRestriction(Complex{T}, Range(fourier_x), [1:config.mx, config.nx-config.mx+1:config.nx])\n",
    "restrict_y = ParRestriction(Complex{T}, Range(fourier_y), [1:config.my, config.ny-config.my+1:config.ny])\n",
    "# restrict_z = ParRestriction(Complex{T}, Range(fourier_z), [1:config.mz, config.nz-config.mz+1:config.nz])\n",
    "restrict_t = ParRestriction(Complex{T}, Range(fourier_t), [1:config.mt])\n",
    "\n",
    "input_shape = (config.nc_lift, 2*config.mx, 2*config.my, config.mt)\n",
    "weight_shape = (config.nc_lift, config.nc_lift, 2*config.mx, 2*config.my, config.mt) # 3 is the no of dimensions including time\n",
    "target_shape = input_shape\n",
    "\n",
    "input_order = (1, 2, 3, 4)\n",
    "weight_order = (5, 1, 2, 3, 4)\n",
    "target_order = (5, 2, 3, 4)\n",
    "\n",
    "weight_mix = ParMatrixN(Complex{T}, weight_order, weight_shape, input_order, input_shape, target_order, target_shape) \n",
    "init!(weight_mix, θ_new)\n",
    "\n",
    "dft = (restrict_t ⊗ restrict_y ⊗ restrict_x) * (fourier_t ⊗ fourier_y ⊗ fourier_x) ⊗ ParIdentity(T, config.nc_lift)\n",
    "output = cxytb_to_xytcb(reshape(dft' * weight_mix(θ_new) * dft * lifting(θ_new) * x_dfno, (config.nc_lift, config.nx, config.ny, config.nt_out, config.n_batch)))\n",
    ";"
   ]
  },
  {
   "cell_type": "code",
   "execution_count": 12,
   "metadata": {},
   "outputs": [
    {
     "data": {
      "text/plain": [
       "9.536743f-7"
      ]
     },
     "metadata": {},
     "output_type": "display_data"
    }
   ],
   "source": [
    "sum(vec(output) - vec(out_ft))"
   ]
  },
  {
   "cell_type": "code",
   "execution_count": 15,
   "metadata": {},
   "outputs": [
    {
     "data": {
      "text/plain": [
       "5898.789f0"
      ]
     },
     "metadata": {},
     "output_type": "display_data"
    }
   ],
   "source": [
    "sum(relu01(out_ft) - relu01(output))"
   ]
  },
  {
   "cell_type": "code",
   "execution_count": 11,
   "metadata": {},
   "outputs": [],
   "source": [
    "lifting = ParIdentity(T, config.nx*config.ny*config.nt_in) ⊗ ParMatrix(T, config.nc_lift, config.nc_in)\n",
    "θ_new = init(lifting)\n",
    "\n",
    "fourier_x = ParDFT(Complex{T}, config.nx)\n",
    "fourier_y = ParDFT(Complex{T}, config.ny)\n",
    "# fourier_z = ParDFT(Complex{T}, config.nz)\n",
    "fourier_t = ParDFT(T, config.nt_out)\n",
    "\n",
    "# Build restrictions to low-frequency modes\n",
    "restrict_x = ParRestriction(Complex{T}, Range(fourier_x), [1:config.mx, config.nx-config.mx+1:config.nx])\n",
    "restrict_y = ParRestriction(Complex{T}, Range(fourier_y), [1:config.my, config.ny-config.my+1:config.ny])\n",
    "# restrict_z = ParRestriction(Complex{T}, Range(fourier_z), [1:config.mz, config.nz-config.mz+1:config.nz])\n",
    "restrict_t = ParRestriction(Complex{T}, Range(fourier_t), [1:config.mt])\n",
    "\n",
    "weight_mix = ParIdentity(Complex{T}, config.mt*config.mx*config.my*4) ⊗ ParMatrix(Complex{T}, config.nc_lift, config.nc_lift)\n",
    "init!(weight_mix, θ_new)\n",
    "\n",
    "dft = (restrict_t * fourier_t) ⊗ (restrict_y * fourier_y) ⊗ (restrict_x * fourier_x) ⊗ ParIdentity(T, config.nc_lift)\n",
    "output = cxytb_to_xytcb(reshape(dft' * weight_mix(θ_new) * dft * lifting(θ_new) * x_dfno, (config.nc_lift, config.nx, config.ny, config.nt_out, config.n_batch)))\n",
    ";"
   ]
  },
  {
   "cell_type": "code",
   "execution_count": 31,
   "metadata": {},
   "outputs": [
    {
     "data": {
      "text/plain": [
       "0.0f0 + 0.0f0im"
      ]
     },
     "metadata": {},
     "output_type": "display_data"
    }
   ],
   "source": [
    "o = 0\n",
    "test = 0\n",
    "for (k, v) in θ_new\n",
    "    if o == 1\n",
    "        test = v\n",
    "    end\n",
    "    o += 1\n",
    "end\n",
    "\n",
    "size(weights)\n",
    "size(test)\n",
    "\n",
    "sum(test - weights)"
   ]
  },
  {
   "cell_type": "code",
   "execution_count": null,
   "metadata": {},
   "outputs": [],
   "source": [
    "using ParametricOperators\n",
    "\n",
    "T = Complex{Int64}\n",
    "\n",
    "input_shape = (5, 3, 3)\n",
    "weight_shape = (5, 5, 3, 3)\n",
    "target_shape = input_shape\n",
    "\n",
    "input_order = (1, 2, 3)\n",
    "weight_order = (4, 1, 2, 3)\n",
    "target_order = (4, 2, 3)\n",
    "\n",
    "operator = ParMatrixN(T, weight_order, weight_shape, input_order, input_shape, target_order, target_shape) \n",
    "weights = init(operator)\n",
    "\n",
    "operator(weights) * vec(rand(T, input_shape...))"
   ]
  },
  {
   "cell_type": "code",
   "execution_count": null,
   "metadata": {},
   "outputs": [],
   "source": [
    "using OMEinsum\n",
    "\n",
    "input_shape = (5, 3, 3)\n",
    "weight_shape = (5, 5, 3, 3)\n",
    "\n",
    "input = rand(input_shape...)\n",
    "weight = rand(weight_shape...)\n",
    "\n",
    "target_order = (4, 2, 3)\n",
    "weight_order = (4, 1, 2, 3)\n",
    "input_order = (1, 2, 3)\n",
    "\n",
    "target = einsum(EinCode((weight_order,input_order),target_order),(weight, input))"
   ]
  },
  {
   "cell_type": "code",
   "execution_count": null,
   "metadata": {},
   "outputs": [],
   "source": [
    "tempx = permutedims(x_ft[1:modes1, 1:modes2, 1:modes3, :,:], [4,2,3,1,5]) # nc * nx * ny * nt * batch\n",
    "tempx = reshape(tempx, (1, 20, 64))\n",
    "\n",
    "tempxout = batched_mul(tempx,weights[1,1,1,:,:,1])\n",
    "\n",
    "inter = reshape(dft * lifting(θ_new) * x_dfno, (20, 8, 8, 4))\n",
    "tempy = inter[:, 1:4, 1:4, :]\n",
    "\n",
    "weights_dfno = ParIdentity(Complex{T}, 4*4*4) ⊗ ParMatrix(Complex{T}, config.nc_lift, config.nc_lift) # nc * nx * ny * nt\n",
    "θ_new2 = init(weights_dfno)\n",
    "weights_temp = 0\n",
    "\n",
    "for (k, v) in θ_new2\n",
    "    weights_temp = permutedims(v, [2, 1])\n",
    "end\n",
    "\n",
    "tempyout1 = reshape(weights_dfno(θ_new2) * vec(tempy), (1, 20, 64))\n",
    "tempyout2 = batched_mul(reshape(tempy, (1,20,64)),weights_temp)\n",
    "\n",
    "sum(vec(tempyout1) - vec(tempyout2))\n",
    "# println(sum(vec(tempx) - vec(tempy)))\n",
    "# println(sum(vec(weights_temp) - vec(weights[1,1,1,:,:,1])))\n",
    "\n",
    "# Random.seed!(1234)\n",
    "# baseline = rand(ComplexF32, 20, 20) ./ 20 # 1f0 / convert(real(T), sqrt(20 * 20)) # ./ convert(real(T), sqrt(20 * 20))\n",
    "\n",
    "# scale = 1f0 / convert(real(T), sqrt(20 * 20))\n",
    "# Random.seed!(1234)\n",
    "# weights = scale*rand(Complex{T}, 1, 1, 1, 20, 20, 1)\n",
    "\n",
    "# println(sum(vec(baseline) - vec(weights[1,1,1,:,:,1])))\n",
    "# println(sum(vec(baseline) - vec(weights_temp)))"
   ]
  },
  {
   "cell_type": "code",
   "execution_count": 30,
   "metadata": {},
   "outputs": [
    {
     "name": "stdout",
     "output_type": "stream",
     "text": [
      "(1, 1, 1, 4, 20)\n",
      "[-0.16171706;;;; -0.20726466;;;; -0.25518337;;;; 0.2643387;;;;; 1.3198342;;;; -0.254401;;;; -0.02295451;;;; 0.08295583;;;;; -0.3161814;;;; -0.19592044;;;; 0.267937;;;; 0.09709002;;;;; 0.08489406;;;; -0.25650942;;;; -0.11920935;;;; 0.03064397;;;;; -0.18131526;;;; 0.1065499;;;; -0.24246559;;;; 0.14511268;;;;; -0.9177591;;;; 0.42056245;;;; 0.054471824;;;; 0.079119205;;;;; 1.2851052;;;; 0.1415495;;;; -0.32246733;;;; -0.08724655;;;;; 0.69611615;;;; -0.020051612;;;; -0.13853109;;;; -0.36852628;;;;; -0.9076334;;;; 0.06441738;;;; -0.11737078;;;; -0.0039142985;;;;; 1.5187979;;;; -0.15598628;;;; -0.09682914;;;; 0.19104315;;;;; -0.5640604;;;; 0.23401311;;;; -0.051067285;;;; 0.007611217;;;;; -0.2988591;;;; -0.19486529;;;; -0.005107416;;;; 0.20380133;;;;; -0.53433424;;;; 0.22049609;;;; -0.25762945;;;; 0.0068155895;;;;; -1.0707594;;;; -0.14015822;;;; 0.016079295;;;; 0.15934826;;;;; 1.0874187;;;; 0.07237384;;;; 0.185438;;;; -0.14645414;;;;; 1.3427666;;;; -0.30003825;;;; -0.44280475;;;; 0.51634485;;;;; 0.26789883;;;; -0.1381379;;;; -0.39994472;;;; 0.29219627;;;;; -0.16659376;;;; 0.06483704;;;; -0.20771493;;;; -0.07649743;;;;; 1.8573159;;;; -0.2983225;;;; -0.4099483;;;; -0.2564596;;;;; -1.1241984;;;; 0.19578695;;;; 0.21542788;;;; 0.20384033](20, 20, 8, 8, 4, 1)\n",
      "(20, 20, 8, 8, 4, 1)\n",
      "(20, 20, 8, 8, 4, 1)\n",
      "(20, 20, 8, 8, 4, 1)\n",
      "(1, 1, 1, 20, 20)\n",
      "(1, 1, 1, 20, 20)\n",
      "(1, 1, 1, 20, 20)\n",
      "(1, 1, 1, 20, 20)\n",
      "(1, 1, 1, 20, 128)\n",
      "(1, 1, 1, 128, 1)\n"
     ]
    }
   ],
   "source": [
    "u = 1\n",
    "\n",
    "for p in grads\n",
    "    println(size(p))\n",
    "    if u == 1\n",
    "        print(p)\n",
    "    end\n",
    "    u += 1\n",
    "end"
   ]
  },
  {
   "cell_type": "code",
   "execution_count": 31,
   "metadata": {},
   "outputs": [
    {
     "name": "stdout",
     "output_type": "stream",
     "text": [
      "ParMatrix{Float32}(20, 20, UUID(\"d6b2595c-8a9e-442b-82d2-a3a87f751aa4\"))\n",
      "ParMatrix{Float32}(1, 128, UUID(\"fe9780f6-10c7-44c6-9362-7bb76d73bb36\"))\n",
      "ParMatrix{Float32}(20, 4, UUID(\"ff6d4d00-06df-404d-b891-ca1e9d1aaec3\"))\n"
     ]
    },
    {
     "name": "stdout",
     "output_type": "stream",
     "text": [
      "Float32[-0.42632148 -0.1928737 0.21309604 0.045274157; -0.70842373 0.13291544 -0.17014682 0.35531783; -0.10550135 -0.09502187 0.16965935 0.031863436; -0.4176053 -0.09258261 0.32370213 0.005126861; 0.47769243 0.061752353 0.22284232 -0.21518424; 0.29890057 0.37176663 -0.6144696 -0.28437307; 0.1459418 0.038446013 -0.29879722 0.48521975; 0.5266604 -0.12852213 0.44297343 0.17632857; 0.7538901 -0.11182453 0.440801 -0.34265572; -0.35054535 0.16432957 -0.42745912 0.3498021; 0.5598861 -0.14096613 0.7443514 -0.35446283; -0.67265284 0.022514885 -0.2403444 0.31744096; 0.70876384 0.1366038 -0.107366905 -0.22658512; -0.9902921 -0.09487598 -0.2017013 0.20810148; -0.51238936 0.0068213604 -0.023764405 0.29441133; -0.3607113 -0.11047865 0.656597 -0.14510065; -0.21281554 -0.0065856706 0.51843774 -0.10859058; 0.91978604 0.25676775 -0.32844552 -0.10390376; 0.3094233 -0.05528579 0.176711 0.21467009; -0.16980201 0.29595965 -0.525085 -0.22241342]ParMatrix{Float32}(128, 20, UUID(\"5df37970-e9d3-4332-9ff9-179c40166c2c\"))\n",
      "ParMatrixN{5, 4, 4, ComplexF32}((5, 1, 2, 3, 4), (20, 20, 8, 8, 4), (1, 2, 3, 4), (20, 8, 8, 4), (5, 2, 3, 4), (20, 8, 8, 4), UUID(\"71a85ad6-587a-4b48-8c1f-50fae19e3cc0\"))\n"
     ]
    }
   ],
   "source": [
    "o = 1\n",
    "for (k, v) in grads_dfno\n",
    "    println(k)\n",
    "    if o == 3\n",
    "        print(v)\n",
    "    end\n",
    "    o += 1\n",
    "end"
   ]
  },
  {
   "cell_type": "code",
   "execution_count": null,
   "metadata": {},
   "outputs": [],
   "source": []
  }
 ],
 "metadata": {
  "kernelspec": {
   "display_name": "Julia 1.8.5",
   "language": "julia",
   "name": "julia-1.8"
  },
  "language_info": {
   "file_extension": ".jl",
   "mimetype": "application/julia",
   "name": "julia",
   "version": "1.8.5"
  },
  "orig_nbformat": 4,
  "vscode": {
   "interpreter": {
    "hash": "5c7b89af1651d0b8571dde13640ecdccf7d5a6204171d6ab33e7c296e100e08a"
   }
  }
 },
 "nbformat": 4,
 "nbformat_minor": 2
}
