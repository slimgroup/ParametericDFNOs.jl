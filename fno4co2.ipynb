{
 "cells": [
  {
   "cell_type": "code",
   "execution_count": 1,
   "metadata": {},
   "outputs": [
    {
     "name": "stderr",
     "output_type": "stream",
     "text": [
      "\u001b[32m\u001b[1m  Activating\u001b[22m\u001b[39m project at `~/Desktop/Research/Code/dfno`\n"
     ]
    },
    {
     "name": "stderr",
     "output_type": "stream",
     "text": [
      "┌ Info: OMEinsum loaded the CUDA module successfully\n",
      "└ @ OMEinsum /Users/richardr2926/.julia/packages/OMEinsum/lTBCn/src/cueinsum.jl:117\n",
      "┌ Info: FNO4CO2 is using GPU\n",
      "└ @ FNO4CO2 /Users/richardr2926/Desktop/Research/Code/FNO4CO2/src/FNO4CO2.jl:15\n"
     ]
    }
   ],
   "source": [
    "using Pkg\n",
    "Pkg.activate(\"./\")\n",
    "# Pkg.resolve()\n",
    "# Pkg.instantiate()\n",
    "\n",
    "using DrWatson\n",
    "using MPI\n",
    "using ParametricOperators\n",
    "using Parameters\n",
    "using Profile\n",
    "using Shuffle\n",
    "using Zygote\n",
    "using PyPlot\n",
    "using NNlib\n",
    "using NNlibCUDA\n",
    "using FNO4CO2\n",
    "using JLD2\n",
    "using Flux, Random, FFTW\n",
    "using MAT, Statistics, LinearAlgebra\n",
    "using CUDA\n",
    "using ProgressMeter\n",
    "using InvertibleNetworks:ActNorm\n",
    "using Random\n",
    "matplotlib.use(\"Agg\")"
   ]
  },
  {
   "cell_type": "code",
   "execution_count": 2,
   "metadata": {},
   "outputs": [
    {
     "data": {
      "text/plain": [
       "ModelConfig"
      ]
     },
     "metadata": {},
     "output_type": "display_data"
    }
   ],
   "source": [
    "update = ParametricOperators.update!\n",
    "\n",
    "\n",
    "@with_kw struct ModelConfig\n",
    "    nx::Int = 64\n",
    "    ny::Int = 64\n",
    "    nz::Int = 64\n",
    "    nt_in::Int = 51\n",
    "    nt_out::Int = 51\n",
    "    nc_in::Int = 4\n",
    "    nc_mid::Int = 128\n",
    "    nc_out::Int = 1\n",
    "    nc_lift::Int = 20\n",
    "    mx::Int = 4\n",
    "    my::Int = 4\n",
    "    mz::Int = 4\n",
    "    mt::Int = 4\n",
    "    n_blocks::Int = 1\n",
    "    n_batch::Int = 1\n",
    "    dtype::DataType = Float32\n",
    "    partition::Vector{Int} = [1]\n",
    "end"
   ]
  },
  {
   "cell_type": "code",
   "execution_count": 8,
   "metadata": {},
   "outputs": [
    {
     "data": {
      "text/plain": [
       "forward (generic function with 1 method)"
      ]
     },
     "metadata": {},
     "output_type": "display_data"
    }
   ],
   "source": [
    "function PO_FNO4CO2(config::ModelConfig)\n",
    "\n",
    "    T = config.dtype\n",
    "\n",
    "    function lifting(in_shape, lift_dim, out_features, T=Float32)\n",
    "\n",
    "        net = ParIdentity(T, 1) \n",
    "    \n",
    "        for dim in eachindex(in_shape)\n",
    "            if dim == lift_dim\n",
    "                layer = ParMatrix(T, out_features, in_shape[dim])\n",
    "            else \n",
    "                layer = ParIdentity(T, in_shape[dim])\n",
    "            end\n",
    "            \n",
    "            if dim == 1\n",
    "                net = layer\n",
    "            else\n",
    "                net = layer ⊗ net\n",
    "            end\n",
    "        end\n",
    "    \n",
    "        return net\n",
    "    end\n",
    "\n",
    "    function spectral_convolution()\n",
    "\n",
    "        # Build 4D Fourier transform with real-valued FFT along time\n",
    "        fourier_x = ParDFT(Complex{T}, config.nx)\n",
    "        fourier_y = ParDFT(Complex{T}, config.ny)\n",
    "        # fourier_z = ParDFT(Complex{T}, config.nz)\n",
    "        fourier_t = ParDFT(T, config.nt_out)\n",
    "\n",
    "        # Build restrictions to low-frequency modes\n",
    "        restrict_x = ParRestriction(Complex{T}, Range(fourier_x), [1:config.mx, config.nx-config.mx+1:config.nx])\n",
    "        restrict_y = ParRestriction(Complex{T}, Range(fourier_y), [1:config.my, config.ny-config.my+1:config.ny])\n",
    "        # restrict_z = ParRestriction(Complex{T}, Range(fourier_z), [1:config.mz, config.nz-config.mz+1:config.nz])\n",
    "        restrict_t = ParRestriction(Complex{T}, Range(fourier_t), [1:config.mt])\n",
    "\n",
    "        # weight_mix = ParIdentity(Complex{T}, Range(restrict_dft) ÷ config.nc_lift) ⊗\n",
    "        #             ParMatrix(Complex{T}, config.nc_lift, config.nc_lift)\n",
    "\n",
    "        input_shape = (config.nc_lift, 2*config.mx, 2*config.my, config.mt)\n",
    "        weight_shape = (config.nc_lift, config.nc_lift, 2*config.mx, 2*config.my, config.mt)\n",
    "\n",
    "        input_order = (1, 2, 3, 4)\n",
    "        weight_order = (5, 1, 2, 3, 4)\n",
    "        target_order = (5, 2, 3, 4)\n",
    "\n",
    "        weight_mix = ParMatrixN(Complex{T}, weight_order, weight_shape, input_order, input_shape, target_order, input_shape) \n",
    "\n",
    "        # Setup FFT-restrict pattern with Kroneckers\n",
    "        restrict_dft = (restrict_t * fourier_t) ⊗ (restrict_y * fourier_y) ⊗ (restrict_x * fourier_x) ⊗ ParIdentity(T, config.nc_lift)\n",
    "\n",
    "        sconv = restrict_dft' * weight_mix * restrict_dft\n",
    "\n",
    "        return sconv\n",
    "    end\n",
    "\n",
    "    shape = [config.nc_in, config.nx, config.ny, config.nt_in]\n",
    "\n",
    "    sconvs = []\n",
    "    convs = []\n",
    "    projects = []\n",
    "    sconv_biases = []\n",
    "    biases = []\n",
    "\n",
    "    # Lift Channel dimension\n",
    "    lifts = ParIdentity(Float32,round(Int, prod(shape)/config.nc_in)) ⊗ ParMatrix(Float32, config.nc_lift, config.nc_in) # lifting(shape, 1, config.nc_lift)\n",
    "    bias = ParIdentity(Float32,round(Int, prod(shape)/config.nc_in)) ⊗ ParDiagonal(Float32, config.nc_lift) # TODO: Rearrange code for all bias so it makes more sense mathematically\n",
    "    push!(biases, bias)\n",
    "\n",
    "    shape[1] = config.nc_lift\n",
    "\n",
    "    for i in 1:config.n_blocks\n",
    "\n",
    "        sconv_layer = spectral_convolution()\n",
    "        conv_layer = ParIdentity(Float32,round(Int, prod(shape)/config.nc_lift)) ⊗ ParMatrix(Float32, config.nc_lift, config.nc_lift) # lifting(shape, 1, config.nc_lift)\n",
    "        bias = ParIdentity(Float32,round(Int, prod(shape)/config.nc_lift)) ⊗ ParDiagonal(Float32, config.nc_lift)\n",
    "\n",
    "        push!(sconv_biases, bias)\n",
    "        push!(sconvs, sconv_layer)\n",
    "        push!(convs, conv_layer)\n",
    "    end\n",
    "\n",
    "    # Uplift channel dimension once more\n",
    "    uc = ParIdentity(Float32,round(Int, prod(shape)/config.nc_lift)) ⊗ ParMatrix(Float32, config.nc_mid, config.nc_lift) # lifting(shape, 1, config.nc_mid)\n",
    "    bias = ParIdentity(Float32,round(Int, prod(shape)/config.nc_lift)) ⊗ ParDiagonal(Float32, config.nc_mid)\n",
    "    push!(biases, bias)\n",
    "    push!(projects, uc)\n",
    "\n",
    "    shape[1] = config.nc_mid\n",
    "\n",
    "    # Project channel dimension\n",
    "    pc = ParIdentity(Float32,round(Int, prod(shape)/config.nc_mid)) ⊗ ParMatrix(Float32, config.nc_out, config.nc_mid) # lifting(shape, 1, config.nc_out)\n",
    "    bias = ParIdentity(Float32,round(Int, prod(shape)/config.nc_mid)) ⊗ ParDiagonal(Float32, config.nc_out)\n",
    "    push!(biases, bias)\n",
    "    push!(projects, pc)\n",
    "\n",
    "    shape[1] = config.nc_out\n",
    "\n",
    "    return lifts, sconvs, convs, projects, biases, sconv_biases\n",
    "end\n",
    "\n",
    "modes = 4\n",
    "width = 20\n",
    "\n",
    "config = ModelConfig(mx=modes, my=modes, mt=modes, nc_lift=width, n_blocks=4, n_batch=2)\n",
    "lifts, sconvs, convs, projects, biases, sconv_biases = PO_FNO4CO2(config)\n",
    "\n",
    "# To Load Saved Dict: \n",
    "# key = load(\"./data/3D_FNO/.jld2\")[\"key\"]\n",
    "\n",
    "θ = init(lifts)\n",
    "for operator in Iterators.flatten((sconvs, convs, biases, sconv_biases, projects))\n",
    "    init!(operator, θ)\n",
    "end\n",
    "\n",
    "gpu_flag && (global θ = gpu(θ))\n",
    "\n",
    "function xytcb_to_cxytb(x)\n",
    "    return permutedims(x, [4,1,2,3,5])\n",
    "end\n",
    "\n",
    "function cxytb_to_xytcb(x)\n",
    "    return permutedims(x, [2,3,4,1,5])\n",
    "end\n",
    "\n",
    "function forward(θ, x::Any)\n",
    "    temp = ones(DDT(biases[1]), Domain(biases[1]), config.n_batch)\n",
    "    x = lifts(θ) * x + biases[1](θ) * temp\n",
    "\n",
    "    temp = ones(DDT(sconv_biases[1]), Domain(sconv_biases[1]), config.n_batch)\n",
    "\n",
    "    for i in 1:config.n_blocks\n",
    "\n",
    "        x = (sconvs[i](θ) * x) + (convs[i](θ) * x) + (sconv_biases[i](θ) * temp)\n",
    "        x = cxytb_to_xytcb(reshape(x, (config.nc_lift, config.nx, config.ny, config.nt_in, :)))\n",
    "\n",
    "        N = ndims(x)\n",
    "        ϵ = 1f-5\n",
    "\n",
    "        reduce_dims = [1:N-2; N]\n",
    "\n",
    "        μ = mean(x; dims=reduce_dims)\n",
    "        σ² = var(x; mean=μ, dims=reduce_dims, corrected=false)\n",
    "\n",
    "        prod = config.nc_lift * config.nx * config.ny * config.nt_in\n",
    "\n",
    "        x = (x .- μ) ./ sqrt.(σ² .+ ϵ)\n",
    "        x = reshape(xytcb_to_cxytb(x), (prod, :))\n",
    "        \n",
    "        if i < config.n_blocks\n",
    "            x = relu.(x)\n",
    "        end\n",
    "    end\n",
    "\n",
    "    temp = ones(DDT(biases[2]), Domain(biases[2]), config.n_batch)\n",
    "    x = projects[1](θ) * x + biases[2](θ) * temp\n",
    "    x = relu.(x)\n",
    "\n",
    "    temp = ones(DDT(biases[3]), Domain(biases[3]), config.n_batch)\n",
    "    x = projects[2](θ) * x + biases[3](θ) * temp\n",
    "    return x\n",
    "end\n",
    "\n",
    "# x_train = rand(DDT(lifts), Domain(lifts))\n",
    "# y_train = rand(RDT(projects), Range(projects))\n",
    "\n",
    "# y = forward(θ, x_train)\n",
    "# grads = gradient(params -> Flux.mse(forward(params, x_train), y_train), θ)"
   ]
  },
  {
   "cell_type": "code",
   "execution_count": 4,
   "metadata": {},
   "outputs": [],
   "source": [
    "# Define raw data directory\n",
    "mkpath(datadir(\"training-data\"))\n",
    "perm_path = datadir(\"training-data\", \"perm_gridspacing15.0.mat\")\n",
    "conc_path = datadir(\"training-data\", \"conc_gridspacing15.0.mat\")\n",
    "\n",
    "# Download the dataset into the data directory if it does not exist\n",
    "if ~isfile(perm_path)\n",
    "    run(`wget https://www.dropbox.com/s/o35wvnlnkca9r8k/'\n",
    "        'perm_gridspacing15.0.mat -q -O $perm_path`)\n",
    "end\n",
    "if ~isfile(conc_path)\n",
    "    run(`wget https://www.dropbox.com/s/mzi0xgr0z3l553a/'\n",
    "        'conc_gridspacing15.0.mat -q -O $conc_path`)\n",
    "end"
   ]
  },
  {
   "cell_type": "code",
   "execution_count": 5,
   "metadata": {},
   "outputs": [
    {
     "data": {
      "text/plain": [
       "\"/Users/richardr2926/Desktop/Research/Code/dfno/plots/3D_FNO/exp_name=2phaseflow\""
      ]
     },
     "metadata": {},
     "output_type": "display_data"
    }
   ],
   "source": [
    "\n",
    "perm = matread(perm_path)[\"perm\"];\n",
    "conc = matread(conc_path)[\"conc\"];\n",
    "\n",
    "nsamples = size(perm, 3)\n",
    "\n",
    "ntrain = 1000\n",
    "nvalid = 100\n",
    "\n",
    "batch_size = config.n_batch\n",
    "learning_rate = 1f-4\n",
    "\n",
    "epochs = 1\n",
    "\n",
    "modes = 4\n",
    "width = 20\n",
    "\n",
    "n = (config.nx,config.ny)\n",
    "#d = (15f0,15f0) # dx, dy in m\n",
    "d = (1f0/config.nx, 1f0/config.ny)\n",
    "\n",
    "s = 1\n",
    "\n",
    "nt = 51\n",
    "#dt = 20f0    # dt in day\n",
    "dt = 1f0/(nt-1)\n",
    "\n",
    "AN = ActNorm(ntrain)\n",
    "AN.forward(reshape(perm[1:s:end,1:s:end,1:ntrain], n[1], n[2], 1, ntrain));\n",
    "\n",
    "y_train = permutedims(conc[1:nt,1:s:end,1:s:end,1:ntrain],[2,3,1,4]);\n",
    "y_valid = permutedims(conc[1:nt,1:s:end,1:s:end,ntrain+1:ntrain+nvalid],[2,3,1,4]);\n",
    "\n",
    "grid = gen_grid(n, d, nt, dt)\n",
    "\n",
    "x_train = perm_to_tensor(perm[1:s:end,1:s:end,1:ntrain],grid,AN);\n",
    "x_valid = perm_to_tensor(perm[1:s:end,1:s:end,ntrain+1:ntrain+nvalid],grid,AN);\n",
    "x_valid_dfno = xytcb_to_cxytb(x_valid)\n",
    "\n",
    "# value, x, y, t\n",
    "\n",
    "NN = Net3d(modes, width)\n",
    "gpu_flag && (global NN = NN |> gpu)\n",
    "\n",
    "Flux.trainmode!(NN, true)\n",
    "w = Flux.params(NN)\n",
    "\n",
    "opt = Flux.Optimise.ADAMW(learning_rate, (0.9f0, 0.999f0), 1f-4)\n",
    "nbatches = Int(ntrain/batch_size)\n",
    "\n",
    "Loss = zeros(Float32,epochs*nbatches)\n",
    "Loss_valid = zeros(Float32, epochs)\n",
    "prog = Progress(round(Int, ntrain * epochs / batch_size))\n",
    "\n",
    "# plot figure\n",
    "x_plot = x_valid[:, :, :, :, 1:1]\n",
    "y_plot = y_valid[:, :, :, 1:1]\n",
    "x_plot_dfno = vec(xytcb_to_cxytb(x_plot))\n",
    "\n",
    "# Define result directory\n",
    "\n",
    "sim_name = \"3D_FNO\"\n",
    "exp_name = \"2phaseflow\"\n",
    "\n",
    "save_dict = @strdict exp_name\n",
    "plot_path = plotsdir(sim_name, savename(save_dict; digits=6))"
   ]
  },
  {
   "cell_type": "code",
   "execution_count": 6,
   "metadata": {},
   "outputs": [],
   "source": [
    "ep = 1\n",
    "b = 1\n",
    "\n",
    "Base.flush(Base.stdout)\n",
    "idx_e = reshape(randperm(ntrain), batch_size, nbatches)\n",
    "\n",
    "x = x_train[:, :, :, :, idx_e[:,b]]\n",
    "y = y_train[:, :, :, idx_e[:,b]]\n",
    "\n",
    "x_dfno = reshape(xytcb_to_cxytb(x), (:, config.n_batch))\n",
    "y_dfno = reshape(y, (:, config.n_batch));"
   ]
  },
  {
   "cell_type": "code",
   "execution_count": 11,
   "metadata": {},
   "outputs": [
    {
     "name": "stdout",
     "output_type": "stream",
     "text": [
      "DFNO Loss: 2.7084153. NN Loss: 2.7084153\n"
     ]
    }
   ],
   "source": [
    "grads_dfno = gradient(params -> norm(relu01(forward(params, x_dfno))-y_dfno)/norm(y_dfno), θ)[1]\n",
    "grads = gradient(w) do\n",
    "    global loss = norm(relu01(NN(x))-y)/norm(y)\n",
    "    return loss\n",
    "end\n",
    "\n",
    "loss_dfno = norm(relu01(forward(θ, x_dfno))-y_dfno)/norm(y_dfno)\n",
    "loss = norm(relu01(NN(x))-y)/norm(y)\n",
    "\n",
    "# loss_dfno = norm(relu01(forward(θ, x_dfno)))/norm(y_dfno)\n",
    "# loss = norm(relu01(NN(x)))/norm(y)\n",
    "\n",
    "println(\"DFNO Loss: \", loss_dfno, \". NN Loss: \", loss)"
   ]
  },
  {
   "cell_type": "code",
   "execution_count": 13,
   "metadata": {},
   "outputs": [
    {
     "data": {
      "text/plain": [
       "1.4674958f-7"
      ]
     },
     "metadata": {},
     "output_type": "display_data"
    }
   ],
   "source": [
    "norm(vec(forward(θ, x_dfno))-vec(NN(x)))/norm(vec(forward(θ, x_dfno))+vec(NN(x)))"
   ]
  },
  {
   "cell_type": "code",
   "execution_count": 22,
   "metadata": {},
   "outputs": [
    {
     "name": "stdout",
     "output_type": "stream",
     "text": [
      "ParDiagonal{Float32}(20)\n",
      "ParDiagonal{Float32}(1)\n",
      "ParMatrixN{5, 4, 4, ComplexF32}((5, 1, 2, 3, 4), (20, 20, 8, 8, 4), (1, 2, 3, 4), (20, 8, 8, 4), (5, 2, 3, 4), (20, 8, 8, 4), UUID(\"436887fb-9529-4f72-b13b-cbd7cd8a05c6\"))\n",
      "ParMatrix{Float32}(20, 20, UUID(\"05695064-9539-45ba-917b-d798f0983b2c\"), 0)\n",
      "ParMatrix{Float32}(128, 20, UUID(\"d7e8609e-0a69-4659-b3f4-1adc3e9c329d\"), 0)\n",
      "ParMatrix{Float32}(1, 128, UUID(\"638d206c-ca9d-488c-aac7-77e86eff89b9\"), 0)\n"
     ]
    },
    {
     "name": "stdout",
     "output_type": "stream",
     "text": [
      "ParMatrixN{5, 4, 4, ComplexF32}((5, 1, 2, 3, 4), (20, 20, 8, 8, 4), (1, 2, 3, 4), (20, 8, 8, 4), (5, 2, 3, 4), (20, 8, 8, 4), UUID(\"582b2a99-7610-49c3-8343-b3f38b0dc614\"))\n",
      "ParMatrix{Float32}(20, 20, UUID(\"47f5671c-8a3e-48b1-8d31-d7145f3da751\"), 0)\n",
      "ParMatrix{Float32}(20, 20, UUID(\"5b0aa3d7-eb1b-45b3-afe9-4100b674f4c1\"), 0)\n",
      "ParMatrix{Float32}(20, 20, UUID(\"e241b9f1-594a-45df-bd97-0c8eb5055f01\"), 0)\n",
      "ParMatrixN{5, 4, 4, ComplexF32}((5, 1, 2, 3, 4), (20, 20, 8, 8, 4), (1, 2, 3, 4), (20, 8, 8, 4), (5, 2, 3, 4), (20, 8, 8, 4), UUID(\"b2efce6e-a4c1-4bcd-9b8d-8389ab538e17\"))\n",
      "ParDiagonal{Float32}(128)\n",
      "ParMatrix{Float32}(20, 4, UUID(\"27150ea5-b0a8-47b7-9ecb-b20b8b69ccbb\"), 0)\n",
      "ParMatrixN{5, 4, 4, ComplexF32}((5, 1, 2, 3, 4), (20, 20, 8, 8, 4), (1, 2, 3, 4), (20, 8, 8, 4), (5, 2, 3, 4), (20, 8, 8, 4), UUID(\"67e19fc2-a6be-416e-b180-0e00427dbb0c\"))\n"
     ]
    }
   ],
   "source": [
    "o = 1\n",
    "test_w1 = 0\n",
    "\n",
    "for (v, p) in θ\n",
    "    println(v)\n",
    "    if o == -12\n",
    "        # println(v)\n",
    "        test_w1 = p\n",
    "    end\n",
    "    o += 1\n",
    "end"
   ]
  },
  {
   "cell_type": "code",
   "execution_count": 23,
   "metadata": {},
   "outputs": [
    {
     "name": "stdout",
     "output_type": "stream",
     "text": [
      "(1, 1, 1, 4, 20)\n",
      "(20,)\n",
      "(20, 20, 8, 8, 4, 1)\n",
      "(20, 20, 8, 8, 4, 1)\n",
      "(20, 20, 8, 8, 4, 1)\n",
      "(20, 20, 8, 8, 4, 1)\n",
      "(1, 1, 1, 20, 20)\n",
      "(20,)\n",
      "(1, 1, 1, 20, 20)\n",
      "(20,)\n",
      "(1, 1, 1, 20, 20)\n",
      "(20,)\n",
      "(1, 1, 1, 20, 20)\n",
      "(20,)\n",
      "(1, 1, 1, 20, 128)\n",
      "(128,)\n",
      "(1, 1, 1, 128, 1)\n",
      "(1,)\n"
     ]
    }
   ],
   "source": [
    "o = 1\n",
    "test_w2 = 0\n",
    "for p in w\n",
    "    println(size(p))\n",
    "    if o == -16\n",
    "        # println(size(p))\n",
    "        test_w2 = p\n",
    "    end\n",
    "    o += 1\n",
    "end"
   ]
  },
  {
   "cell_type": "code",
   "execution_count": 26,
   "metadata": {},
   "outputs": [],
   "source": [
    "# norm(vec(test_w1) - vec(test_w2))"
   ]
  },
  {
   "cell_type": "code",
   "execution_count": 12,
   "metadata": {},
   "outputs": [],
   "source": [
    "# norm(vec(permutedims(test_w1, [2, 1])) - vec(test_w2))"
   ]
  },
  {
   "cell_type": "code",
   "execution_count": 13,
   "metadata": {},
   "outputs": [],
   "source": [
    "function gen(shape...)\n",
    "    Random.seed!(1234)\n",
    "    return Flux.glorot_uniform(shape...)\n",
    "    # return rand(Float32, shape...) / convert(Float32, sqrt(prod(shape)))\n",
    "end\n",
    "\n",
    "function compl_mul(x::AbstractArray{T, 5}, y::AbstractArray{T, 5}) where T\n",
    "    # complex multiplication\n",
    "    y =  permutedims(y,[5,3,4,2,1]) # (oixyt) -> (txyio) bc x is (txyib)\n",
    "    # x in (modes1, modes2, modes3, input channels, batchsize)\n",
    "    # y in (modes1, modes2, modes3, input channels, output channels)\n",
    "    # output in (modes1,modes2,modes3,output channels,batchsize)\n",
    "    x_per = permutedims(x,[5,4,1,2,3]) # batchsize*in_channels*modes1*modes2*modes3\n",
    "    y_per = permutedims(y,[4,5,1,2,3]) # in_channels*out_channels*modes1*modes2*modes3\n",
    "    x_resh = reshape(x_per,size(x_per,1),size(x_per,2),:) # batchsize*in_channels*(modes1*modes2*modes3)\n",
    "    y_resh = reshape(y_per,size(y_per,1),size(y_per,2),:) # in_channels*out_channels*(modes1*modes2*modes3)\n",
    "    out_resh = batched_mul(x_resh,y_resh) # batchsize*out_channels*(modes1*modes2*modes3)\n",
    "    out_per = reshape(out_resh,size(out_resh,1),size(out_resh,2),size(x,1),size(x,2),size(x,3)) # batchsize*out_channels*modes1*modes2*modes3\n",
    "    out = permutedims(out_per,[3,4,5,2,1])\n",
    "    return out\n",
    "end\n",
    "\n",
    "T = Float32\n",
    "\n",
    "conv = Flux.Conv((1, 1, 1), config.nc_in=>config.nc_lift; init=gen, bias=false)\n",
    "xt = conv(x) # xytcb\n",
    "temp = conv(x) # xytcb\n",
    "\n",
    "xt = permutedims(xt, [3,1,2,4,5]) # txycb\n",
    "x_ft = rfft(xt,[1,2,3])      ## full size FFT\n",
    "\n",
    "Random.seed!(1234)\n",
    "weights = rand(Complex{T}, config.nc_lift, config.nc_lift, 8, 8, 4, 1) ./ convert(T, sqrt(config.nc_lift * config.nc_lift * 8 * 8 * 4))\n",
    "\n",
    "modes1 = config.mt\n",
    "modes2 = config.mx\n",
    "modes3 = config.my\n",
    "\n",
    "# only keep low frequency coefficients weights[1,1,1,:,:,1]\n",
    "out_ft = cat(cat(cat(compl_mul(x_ft[1:modes1, 1:modes2, 1:modes3, :,:], weights[:,:,1:4,1:4,:,1]),\n",
    "                zeros(Complex{T}, modes1, modes2, size(x_ft,3)-2*modes3, size(x_ft,4), size(x_ft,5)), \n",
    "                compl_mul(x_ft[1:modes1, 1:modes2, end-modes3+1:end,:,:], weights[:,:,1:4,5:8,:,1]),dims=3),\n",
    "                zeros(Complex{T}, modes1, size(x_ft, 2)-2*modes2, size(x_ft,3), size(x_ft,4), size(x_ft,5)),\n",
    "                cat(compl_mul(x_ft[1:modes1, end-modes2+1:end, 1:modes3,:,:], weights[:,:,5:8,1:4,:,1]),\n",
    "                zeros(Complex{T}, modes1, modes2, size(x_ft,3)-2*modes3, size(x_ft,4), size(x_ft,5)),\n",
    "                compl_mul(x_ft[1:modes1, end-modes2+1:end, end-modes3+1:end,:,:], weights[:,:,5:8,5:8,:,1]),dims=3)\n",
    "                ,dims=2),\n",
    "                zeros(Complex{T}, size(x_ft,1)-modes1, size(x_ft,2), size(x_ft,3), size(x_ft,4), size(x_ft,5)),dims=1)\n",
    "# println(size(out_ft))\n",
    "# println(size(xt, 1))\n",
    "out_ft = irfft(out_ft, size(xt,1),[1,2,3]) # nt * nx * ny * channels * batch\n",
    "out_ft = permutedims(out_ft, [2,3,1,4,5]); # nx * ny * nt * channels * batch"
   ]
  },
  {
   "cell_type": "code",
   "execution_count": 14,
   "metadata": {},
   "outputs": [],
   "source": [
    "lifting = ParIdentity(T, config.nx*config.ny*config.nt_in) ⊗ ParMatrix(T, config.nc_lift, config.nc_in)\n",
    "θ_new = init(lifting)\n",
    "\n",
    "fourier_x = ParDFT(Complex{T}, config.nx)\n",
    "fourier_y = ParDFT(Complex{T}, config.ny)\n",
    "# fourier_z = ParDFT(Complex{T}, config.nz)\n",
    "fourier_t = ParDFT(T, config.nt_out)\n",
    "\n",
    "# Build restrictions to low-frequency modes\n",
    "restrict_x = ParRestriction(Complex{T}, Range(fourier_x), [1:config.mx, config.nx-config.mx+1:config.nx])\n",
    "restrict_y = ParRestriction(Complex{T}, Range(fourier_y), [1:config.my, config.ny-config.my+1:config.ny])\n",
    "# restrict_z = ParRestriction(Complex{T}, Range(fourier_z), [1:config.mz, config.nz-config.mz+1:config.nz])\n",
    "restrict_t = ParRestriction(Complex{T}, Range(fourier_t), [1:config.mt])\n",
    "\n",
    "input_shape = (config.nc_lift, 2*config.mx, 2*config.my, config.mt)\n",
    "weight_shape = (config.nc_lift, config.nc_lift, 2*config.mx, 2*config.my, config.mt) # 3 is the no of dimensions including time\n",
    "target_shape = input_shape\n",
    "\n",
    "input_order = (1, 2, 3, 4)\n",
    "weight_order = (5, 1, 2, 3, 4)\n",
    "target_order = (5, 2, 3, 4)\n",
    "\n",
    "weight_mix = ParMatrixN(Complex{T}, weight_order, weight_shape, input_order, input_shape, target_order, target_shape) \n",
    "init!(weight_mix, θ_new)\n",
    "\n",
    "dft = (restrict_t * fourier_t) ⊗\n",
    "    (restrict_y * fourier_y) ⊗\n",
    "    (restrict_x * fourier_x) ⊗\n",
    "    ParIdentity(T, config.nc_lift)\n",
    "output = cxytb_to_xytcb(reshape(dft' * weight_mix(θ_new) * dft * lifting(θ_new) * x_dfno, (config.nc_lift, config.nx, config.ny, config.nt_out, config.n_batch)))\n",
    ";"
   ]
  },
  {
   "cell_type": "code",
   "execution_count": 15,
   "metadata": {},
   "outputs": [
    {
     "data": {
      "text/plain": [
       "4.271905f-8"
      ]
     },
     "metadata": {},
     "output_type": "display_data"
    }
   ],
   "source": [
    "norm(output-out_ft)/norm(output+out_ft)"
   ]
  },
  {
   "cell_type": "code",
   "execution_count": 16,
   "metadata": {},
   "outputs": [
    {
     "name": "stdout",
     "output_type": "stream",
     "text": [
      "Norm on base input: 0.0\n"
     ]
    },
    {
     "name": "stdout",
     "output_type": "stream",
     "text": [
      "Norm after lifting: 0.0\n",
      "Norm after fft: "
     ]
    },
    {
     "name": "stdout",
     "output_type": "stream",
     "text": [
      "0.0\n",
      "Norm after restriction: 0.0\n",
      "Norm of Weight difference: "
     ]
    },
    {
     "name": "stdout",
     "output_type": "stream",
     "text": [
      "0.0\n",
      "Norm after weightage: 0.00033601018\n",
      "Norm after inverse FFT + restrict: "
     ]
    },
    {
     "name": "stdout",
     "output_type": "stream",
     "text": [
      "9.625966e-7\n"
     ]
    }
   ],
   "source": [
    "function gen(shape...)\n",
    "    Random.seed!(1234)\n",
    "    return Flux.glorot_uniform(shape...)\n",
    "    # return rand(Float32, shape...) / convert(Float32, sqrt(prod(shape)))\n",
    "end\n",
    "\n",
    "function compl_mul(x::AbstractArray{T, 5}, y::AbstractArray{T, 5}) where T\n",
    "    # complex multiplication\n",
    "    y =  permutedims(y,[5,3,4,2,1]) # (oixyt) -> (txyio) bc x is (txyib)\n",
    "    # x in (modes1, modes2, modes3, input channels, batchsize)\n",
    "    # y in (modes1, modes2, modes3, input channels, output channels)\n",
    "    # output in (modes1,modes2,modes3,output channels,batchsize)\n",
    "    x_per = permutedims(x,[5,4,1,2,3]) # batchsize*in_channels*modes1*modes2*modes3\n",
    "    y_per = permutedims(y,[4,5,1,2,3]) # in_channels*out_channels*modes1*modes2*modes3\n",
    "    x_resh = reshape(x_per,size(x_per,1),size(x_per,2),:) # batchsize*in_channels*(modes1*modes2*modes3)\n",
    "    y_resh = reshape(y_per,size(y_per,1),size(y_per,2),:) # in_channels*out_channels*(modes1*modes2*modes3)\n",
    "    out_resh = batched_mul(x_resh,y_resh) # batchsize*out_channels*(modes1*modes2*modes3)\n",
    "    out_per = reshape(out_resh,size(out_resh,1),size(out_resh,2),size(x,1),size(x,2),size(x,3)) # batchsize*out_channels*modes1*modes2*modes3\n",
    "    out = permutedims(out_per,[3,4,5,2,1])\n",
    "    return out\n",
    "end\n",
    "\n",
    "T = Float32\n",
    "\n",
    "# x_dfno : cxytb\n",
    "# x      : xytcb\n",
    "println(\"Norm on base input: \", norm(vec(xytcb_to_cxytb(x)) - vec(x_dfno)))\n",
    "\n",
    "conv = Flux.Conv((1, 1, 1), config.nc_in=>config.nc_lift; init=gen, bias=false)\n",
    "xt = conv(x) # xytcb\n",
    "\n",
    "lifting = ParIdentity(T, config.nx*config.ny*config.nt_in) ⊗ ParMatrix(T, config.nc_lift, config.nc_in)\n",
    "θ_new = init(lifting)\n",
    "\n",
    "xt_dfno = lifting(θ_new) * x_dfno\n",
    "println(\"Norm after lifting: \", norm(vec(xytcb_to_cxytb(xt)) - vec(xt_dfno)))\n",
    "\n",
    "xt = permutedims(xt, [3,1,2,4,5]) # txycb\n",
    "xt = rfft(xt,[1,2,3])      ## full size FFT\n",
    "xt_fft = xt\n",
    "\n",
    "fourier_x = ParDFT(Complex{T}, config.nx)\n",
    "fourier_y = ParDFT(Complex{T}, config.ny)\n",
    "fourier_t = ParDFT(T, config.nt_out)\n",
    "\n",
    "restrict_x = ParRestriction(Complex{T}, Range(fourier_x), [1:config.mx, config.nx-config.mx+1:config.nx])\n",
    "restrict_y = ParRestriction(Complex{T}, Range(fourier_y), [1:config.my, config.ny-config.my+1:config.ny])\n",
    "restrict_t = ParRestriction(Complex{T}, Range(fourier_t), [1:config.mt])\n",
    "\n",
    "fft = (fourier_t ⊗ fourier_y ⊗ fourier_x) ⊗ ParIdentity(T, config.nc_lift)\n",
    "xt_dfno_fft = fft * xt_dfno\n",
    "\n",
    "println(\"Norm after fft: \", norm(vec(permutedims(xt, [4,2,3,1,5])) - vec(xt_dfno_fft)))\n",
    "\n",
    "modes1 = config.mt\n",
    "modes2 = config.mx\n",
    "modes3 = config.my\n",
    "\n",
    "# println(size(xt))\n",
    "xt = cat(cat(xt[1:modes1, 1:modes2, 1:modes3, :,:],\n",
    "                    xt[1:modes1, 1:modes2, end-modes3+1:end,:,:],dims=3),\n",
    "                cat(xt[1:modes1, end-modes2+1:end, 1:modes3,:,:],\n",
    "                xt[1:modes1, end-modes2+1:end, end-modes3+1:end,:,:],dims=3)\n",
    "                ,dims=2) #txycb\n",
    "                \n",
    "# println(size(xt))\n",
    "restrict_x = ParRestriction(Complex{T}, Range(fourier_x), [1:config.mx, config.nx-config.mx+1:config.nx])\n",
    "restrict_y = ParRestriction(Complex{T}, Range(fourier_y), [1:config.my, config.ny-config.my+1:config.ny])\n",
    "restrict_t = ParRestriction(Complex{T}, Range(fourier_t), [1:config.mt])\n",
    "\n",
    "dft = (restrict_t * fourier_t) ⊗\n",
    "    (restrict_y * fourier_y) ⊗\n",
    "    (restrict_x * fourier_x) ⊗\n",
    "    ParIdentity(T, config.nc_lift)\n",
    "\n",
    "xt_dfno = dft * xt_dfno\n",
    "\n",
    "println(\"Norm after restriction: \", norm(vec(permutedims(xt, [4,2,3,1,5])) - vec(xt_dfno)))\n",
    "\n",
    "Random.seed!(1234)\n",
    "weights = rand(Complex{T}, config.nc_lift, config.nc_lift, 8, 8, 4, 1) ./ convert(T, sqrt(config.nc_lift * config.nc_lift * 8 * 8 * 4))\n",
    "\n",
    "input_shape = (config.nc_lift, 2*config.mx, 2*config.my, config.mt)\n",
    "weight_shape = (config.nc_lift, config.nc_lift, 2*config.mx, 2*config.my, config.mt) # 3 is the no of dimensions including time\n",
    "target_shape = input_shape\n",
    "\n",
    "input_order = (1, 2, 3, 4)\n",
    "weight_order = (5, 1, 2, 3, 4)\n",
    "target_order = (5, 2, 3, 4)\n",
    "\n",
    "weight_mix = ParMatrixN(Complex{T}, weight_order, weight_shape, input_order, input_shape, target_order, target_shape) \n",
    "θ_test = init(weight_mix)\n",
    "init!(weight_mix, θ_new)\n",
    "\n",
    "for (k, v) in θ_test\n",
    "    println(\"Norm of Weight difference: \", norm(weights - v))\n",
    "end\n",
    "\n",
    "# only keep low frequency coefficients weights[1,1,1,:,:,1] \n",
    "# xt : txycb\n",
    "xt_weighted = cat(cat(compl_mul(xt[1:modes1, 1:modes2, 1:modes3, :,:], weights[:,:,1:4,1:4,:,1]),\n",
    "        compl_mul(xt[1:modes1, 1:modes2, end-modes3+1:end,:,:], weights[:,:,1:4,5:8,:,1]),dims=3),\n",
    "        cat(compl_mul(xt[1:modes1, end-modes2+1:end, 1:modes3,:,:], weights[:,:,5:8,1:4,:,1]),\n",
    "        compl_mul(xt[1:modes1, end-modes2+1:end, end-modes3+1:end,:,:], weights[:,:,5:8,5:8,:,1]),dims=3)\n",
    "        ,dims=2)\n",
    "xt_dfno = weight_mix(θ_new) * xt_dfno\n",
    "\n",
    "println(\"Norm after weightage: \", norm(vec(permutedims(xt_weighted, [4,2,3,1,5])) - vec(xt_dfno)))\n",
    "\n",
    "out_ft = cat(cat(cat(xt_weighted[1:modes1, 1:modes2, 1:modes3, :,:],\n",
    "                zeros(Complex{T}, modes1, modes2, size(xt_fft,3)-2*modes3, size(xt_fft,4), size(xt_fft,5)), \n",
    "                xt_weighted[1:modes1, 1:modes2, end-modes3+1:end,:,:],dims=3),\n",
    "                zeros(Complex{T}, modes1, size(xt_fft, 2)-2*modes2, size(xt_fft,3), size(xt_fft,4), size(xt_fft,5)),\n",
    "                cat(xt_weighted[1:modes1, end-modes2+1:end, 1:modes3,:,:],\n",
    "                zeros(Complex{T}, modes1, modes2, size(xt_fft,3)-2*modes3, size(xt_fft,4), size(xt_fft,5)),\n",
    "                xt_weighted[1:modes1, end-modes2+1:end, end-modes3+1:end,:,:],dims=3)\n",
    "                ,dims=2),\n",
    "                zeros(Complex{T}, size(xt_fft, 1)-modes1, size(xt_fft,2), size(xt_fft,3), size(xt_fft,4), size(xt_fft,5)),dims=1)\n",
    "\n",
    "out_ft = irfft(out_ft, config.nt_in,[1,2,3]) # nt * nx * ny * channels * batch\n",
    "xt_dfno = dft' * xt_dfno\n",
    "\n",
    "println(\"Norm after inverse FFT + restrict: \", norm(vec(permutedims(out_ft, [4,2,3,1,5])) - vec(xt_dfno)))"
   ]
  },
  {
   "cell_type": "code",
   "execution_count": 19,
   "metadata": {},
   "outputs": [
    {
     "name": "stdout",
     "output_type": "stream",
     "text": [
      "Norm on base input: 0.0\n",
      "[-0.33467782;;;; 0.07986212;;;; 0.13177484;;;; -0.0887059;;;;; -0.092202485;;;; 0.47213608;;;; -0.39950258;;;; -0.4850912;;;;; -0.14634603;;;; 0.020354986;;;; -0.095781446;;;; 0.1395616;;;;; 0.28368402;;;; 0.3396219;;;; -0.4455446;;;; 0.46714276;;;;; -0.0018628836;;;; 0.2897644;;;; -0.28694052;;;; 0.19604069;;;;; 0.42789656;;;; 0.06670427;;;; -0.20519775;;;; 0.03636855;;;;; 0.12906319;;;; 0.21138924;;;; 0.3086548;;;; -0.39607054;;;;; -0.04428661;;;; 0.3067041;;;; -0.057995915;;;; 0.3705393;;;;; 0.12084699;;;; 0.4627145;;;; -0.14333922;;;; -0.3488199;;;;; -0.08929753;;;; 0.21535462;;;; -0.41860288;;;; 0.4395476;;;;; 0.1600315;;;; 0.026343644;;;; -0.025538623;;;; -0.4220317;;;;; 0.4344228;;;; 0.46619666;;;; 0.17604738;;;; 0.16655785;;;;; 0.22604805;;;; -0.16614097;;;; -0.30865377;;;; 0.30219877;;;;; 0.18089682;;;; -0.34354162;;;; 0.3965994;;;; -0.119200826;;;;; 0.20674825;;;; -0.43124092;;;; -0.21257704;;;; 0.36172485;;;;; -0.021605551;;;; -0.49456346;;;; -0.21759641;;;; 0.19847769;;;;; 0.24574143;;;; -0.15076911;;;; 0.3774473;;;; 0.4109702;;;;; -0.41437572;;;; 0.47365332;;;; -0.47493583;;;; 0.26065952;;;;; 0.47615987;;;; -0.011088431;;;; 0.18558216;;;; -0.13735747;;;;; 0.39337474;;;; 0.20873779;;;; 0.090468585;;;; 0.15669364]\n",
      "Float32[0.0, 0.0, 0.0, 0.0, 0.0, 0.0, 0.0, 0.0, 0.0, 0.0, 0.0, 0.0, 0.0, 0.0, 0.0, 0.0, 0.0, 0.0, 0.0, 0.0]\n",
      "Bias RxD: 4177920 4177920\n",
      "Lifting: 4177920 835584\n",
      "Norm after lifting_layer: "
     ]
    },
    {
     "name": "stdout",
     "output_type": "stream",
     "text": [
      "0.0\n"
     ]
    },
    {
     "name": "stdout",
     "output_type": "stream",
     "text": [
      "Norm of gradient: 2.32693e-5\n"
     ]
    }
   ],
   "source": [
    "function gen(shape...)\n",
    "    Random.seed!(1234)\n",
    "    return Flux.glorot_uniform(shape...)\n",
    "    # return rand(Float32, shape...) / convert(Float32, sqrt(prod(shape)))\n",
    "end\n",
    "\n",
    "T = Float32\n",
    "\n",
    "# x_dfno : cxytb\n",
    "# x      : xytcb\n",
    "println(\"Norm on base input: \", norm(vec(xytcb_to_cxytb(x)) - vec(x_dfno)))\n",
    "\n",
    "conv = Flux.Conv((1, 1, 1), config.nc_in=>config.nc_lift; init=gen, bias=true)\n",
    "xt = conv(x) # xytcb\n",
    "\n",
    "for w in Flux.params(conv)\n",
    "    println(w)\n",
    "end\n",
    "\n",
    "bias = ParIdentity(T, config.nx*config.ny*config.nt_in) ⊗ ParDiagonal(T, config.nc_lift)\n",
    "lift = ParIdentity(T, config.nx*config.ny*config.nt_in) ⊗ ParMatrix(T, config.nc_lift, config.nc_in)\n",
    "\n",
    "println(\"Bias RxD: \", Range(bias), \" \", Domain(bias))\n",
    "println(\"Lifting: \", Range(lift), \" \", Domain(lift))\n",
    "\n",
    "function lifting_layer(θ, x)\n",
    "    temp = ones(T, Domain(bias), config.n_batch)\n",
    "    return lift(θ) * x + bias(θ) * temp\n",
    "end\n",
    "\n",
    "θ_new = init(bias)\n",
    "init!(lift, θ_new)\n",
    "\n",
    "xt_dfno = lifting_layer(θ_new, x_dfno)\n",
    "println(\"Norm after lifting_layer: \", norm(vec(xytcb_to_cxytb(xt)) - vec(xt_dfno)))\n",
    "\n",
    "y_t_out = rand(Random.seed!(1234), T, 64, 64, 51, 20, 2)\n",
    "y_dfno_out = reshape(xytcb_to_cxytb(y_t_out), 64*64*51*20, 2)\n",
    "\n",
    "grads_xt_dfno = gradient(params -> norm(relu01(lifting_layer(params, x_dfno))-y_dfno_out)/norm(y_dfno_out), θ_new)[1]\n",
    "w = Flux.params(conv)\n",
    "grads_xt = gradient(w) do\n",
    "    global loss = norm(relu01(conv(x))-y_t_out)/norm(y_t_out)\n",
    "    return loss\n",
    "end\n",
    "\n",
    "g1 = nothing\n",
    "g2 = nothing\n",
    "\n",
    "for g in grads_xt\n",
    "    if size(vec(g)) == (20,)\n",
    "        g1 = g\n",
    "    end\n",
    "end\n",
    "\n",
    "for (k, g) in grads_xt_dfno\n",
    "    # println(size(g))\n",
    "    if size(vec(g)) == (20,)\n",
    "        g2 = g\n",
    "    end\n",
    "end\n",
    "\n",
    "println(\"Norm of gradient: \", norm(vec(g1) - vec(g2)))"
   ]
  },
  {
   "cell_type": "code",
   "execution_count": 48,
   "metadata": {},
   "outputs": [
    {
     "data": {
      "text/plain": [
       "4177920"
      ]
     },
     "metadata": {},
     "output_type": "display_data"
    }
   ],
   "source": [
    "64*64*51*20"
   ]
  },
  {
   "cell_type": "code",
   "execution_count": 17,
   "metadata": {},
   "outputs": [],
   "source": [
    "o = 0\n",
    "test = 0\n",
    "for (k, v) in θ_new\n",
    "    if o == 1\n",
    "        test = v\n",
    "    end\n",
    "    o += 1\n",
    "end\n",
    "\n",
    "# size(weights)\n",
    "# size(test)\n",
    "\n",
    "# sum(test - weights)"
   ]
  },
  {
   "cell_type": "code",
   "execution_count": null,
   "metadata": {},
   "outputs": [],
   "source": [
    "using ParametricOperators\n",
    "\n",
    "T = Complex{Int64}\n",
    "\n",
    "input_shape = (5, 3, 3)\n",
    "weight_shape = (5, 5, 3, 3)\n",
    "target_shape = input_shape\n",
    "\n",
    "input_order = (1, 2, 3)\n",
    "weight_order = (4, 1, 2, 3)\n",
    "target_order = (4, 2, 3)\n",
    "\n",
    "operator = ParMatrixN(T, weight_order, weight_shape, input_order, input_shape, target_order, target_shape) \n",
    "weights = init(operator)\n",
    "\n",
    "operator(weights) * vec(rand(T, input_shape...))"
   ]
  },
  {
   "cell_type": "code",
   "execution_count": null,
   "metadata": {},
   "outputs": [],
   "source": [
    "using OMEinsum\n",
    "\n",
    "input_shape = (5, 3, 3)\n",
    "weight_shape = (5, 5, 3, 3)\n",
    "\n",
    "input = rand(input_shape...)\n",
    "weight = rand(weight_shape...)\n",
    "\n",
    "target_order = (4, 2, 3)\n",
    "weight_order = (4, 1, 2, 3)\n",
    "input_order = (1, 2, 3)\n",
    "\n",
    "target = einsum(EinCode((weight_order,input_order),target_order),(weight, input))"
   ]
  },
  {
   "cell_type": "code",
   "execution_count": 23,
   "metadata": {},
   "outputs": [
    {
     "ename": "DimensionMismatch",
     "evalue": "DimensionMismatch: new dimensions (1, 20, 64) must be consistent with array size 2560",
     "output_type": "error",
     "traceback": [
      "DimensionMismatch: new dimensions (1, 20, 64) must be consistent with array size 2560\n",
      "\n",
      "Stacktrace:\n",
      " [1] (::Base.var\"#throw_dmrsa#289\")(dims::Tuple{Int64, Int64, Int64}, len::Int64)\n",
      "   @ Base ./reshapedarray.jl:41\n",
      " [2] reshape(a::Array{ComplexF32, 5}, dims::Tuple{Int64, Int64, Int64})\n",
      "   @ Base ./reshapedarray.jl:45\n",
      " [3] top-level scope\n",
      "   @ ~/Desktop/Research/Code/dfno/fno4co2.ipynb:2"
     ]
    }
   ],
   "source": [
    "tempx = permutedims(x_ft[1:modes1, 1:modes2, 1:modes3, :,:], [4,2,3,1,5]) # nc * nx * ny * nt * batch\n",
    "tempx = reshape(tempx, (1, 20, 64))\n",
    "\n",
    "tempxout = batched_mul(tempx,weights[1,1,1,:,:,1])\n",
    "\n",
    "inter = reshape(dft * lifting(θ_new) * x_dfno, (20, 8, 8, 4))\n",
    "tempy = inter[:, 1:4, 1:4, :]\n",
    "\n",
    "weights_dfno = ParIdentity(Complex{T}, 4*4*4) ⊗ ParMatrix(Complex{T}, config.nc_lift, config.nc_lift) # nc * nx * ny * nt\n",
    "θ_new2 = init(weights_dfno)\n",
    "weights_temp = 0\n",
    "\n",
    "for (k, v) in θ_new2\n",
    "    weights_temp = permutedims(v, [2, 1])\n",
    "end\n",
    "\n",
    "tempyout1 = reshape(weights_dfno(θ_new2) * vec(tempy), (1, 20, 64))\n",
    "tempyout2 = batched_mul(reshape(tempy, (1,20,64)),weights_temp)\n",
    "\n",
    "sum(vec(tempyout1) - vec(tempyout2))\n",
    "# println(sum(vec(tempx) - vec(tempy)))\n",
    "# println(sum(vec(weights_temp) - vec(weights[1,1,1,:,:,1])))\n",
    "\n",
    "# Random.seed!(1234)\n",
    "# baseline = rand(ComplexF32, 20, 20) ./ 20 # 1f0 / convert(real(T), sqrt(20 * 20)) # ./ convert(real(T), sqrt(20 * 20))\n",
    "\n",
    "# scale = 1f0 / convert(real(T), sqrt(20 * 20))\n",
    "# Random.seed!(1234)\n",
    "# weights = scale*rand(Complex{T}, 1, 1, 1, 20, 20, 1)\n",
    "\n",
    "# println(sum(vec(baseline) - vec(weights[1,1,1,:,:,1])))\n",
    "# println(sum(vec(baseline) - vec(weights_temp)))"
   ]
  },
  {
   "cell_type": "code",
   "execution_count": 28,
   "metadata": {},
   "outputs": [
    {
     "name": "stdout",
     "output_type": "stream",
     "text": [
      "(1, 1, 1, 4, 20)\n",
      "(20,)\n",
      "(20, 20, 8, 8, 4, 1)\n",
      "(20, 20, 8, 8, 4, 1)\n",
      "(20, 20, 8, 8, 4, 1)\n",
      "(20, 20, 8, 8, 4, 1)\n",
      "(1, 1, 1, 20, 20)\n",
      "(20,)\n",
      "(1, 1, 1, 20, 20)\n",
      "(20,)\n",
      "(1, 1, 1, 20, 20)\n",
      "(20,)\n",
      "(1, 1, 1, 20, 20)\n",
      "(20,)\n",
      "(1, 1, 1, 20, 128)\n",
      "(128,)\n",
      "(1, 1, 1, 128, 1)\n",
      "(1,)\n"
     ]
    }
   ],
   "source": [
    "u = 1\n",
    "grad_one = nothing\n",
    "\n",
    "for p in grads\n",
    "    println(size(p))\n",
    "    if u == 16\n",
    "        grad_one = p\n",
    "    end\n",
    "    u += 1\n",
    "end"
   ]
  },
  {
   "cell_type": "code",
   "execution_count": 30,
   "metadata": {},
   "outputs": [
    {
     "name": "stdout",
     "output_type": "stream",
     "text": [
      "ParDiagonal{Float32}(20)\n",
      "ParDiagonal{Float32}(1)\n",
      "ParMatrixN{5, 4, 4, ComplexF32}((5, 1, 2, 3, 4), (20, 20, 8, 8, 4), (1, 2, 3, 4), (20, 8, 8, 4), (5, 2, 3, 4), (20, 8, 8, 4), UUID(\"436887fb-9529-4f72-b13b-cbd7cd8a05c6\"))\n",
      "ParMatrix{Float32}(20, 20, UUID(\"05695064-9539-45ba-917b-d798f0983b2c\"), 0)\n",
      "ParMatrix{Float32}(128, 20, UUID(\"d7e8609e-0a69-4659-b3f4-1adc3e9c329d\"), 0)\n",
      "ParMatrix{Float32}(1, 128, UUID(\"638d206c-ca9d-488c-aac7-77e86eff89b9\"), 0)\n",
      "ParMatrixN{5, 4, 4, ComplexF32}((5, 1, 2, 3, 4), (20, 20, 8, 8, 4), (1, 2, 3, 4), (20, 8, 8, 4), (5, 2, 3, 4), (20, 8, 8, 4), UUID(\"582b2a99-7610-49c3-8343-b3f38b0dc614\"))\n",
      "ParMatrix{Float32}(20, 20, UUID(\"47f5671c-8a3e-48b1-8d31-d7145f3da751\"), 0)\n",
      "ParMatrix{Float32}(20, 20, UUID(\"5b0aa3d7-eb1b-45b3-afe9-4100b674f4c1\"), 0"
     ]
    },
    {
     "name": "stdout",
     "output_type": "stream",
     "text": [
      ")\n",
      "ParMatrix{Float32}(20, 20, UUID(\"e241b9f1-594a-45df-bd97-0c8eb5055f01\"), 0)\n",
      "ParMatrixN{5, 4, 4, ComplexF32}((5, 1, 2, 3, 4), (20, 20, 8, 8, 4), (1, 2, 3, 4), (20, 8, 8, 4), (5, 2, 3, 4), (20, 8, 8, 4), UUID(\"b2efce6e-a4c1-4bcd-9b8d-8389ab538e17\"))\n",
      "ParDiagonal{Float32}(128)\n",
      "ParMatrixN{5, 4, 4, ComplexF32}((5, 1, 2, 3, 4), (20, 20, 8, 8, 4), (1, 2, 3, 4), (20, 8, 8, 4), (5, 2, 3, 4), (20, 8, 8, 4), UUID(\"67e19fc2-a6be-416e-b180-0e00427dbb0c\"))\n",
      "ParMatrix{Float32}(20, 4, UUID(\"27150ea5-b0a8-47b7-9ecb-b20b8b69ccbb\"), 0)\n"
     ]
    }
   ],
   "source": [
    "o = 1\n",
    "grad_two = nothing\n",
    "\n",
    "for (k, v) in grads_dfno\n",
    "    println(k)\n",
    "    if o == 12\n",
    "        grad_two = v\n",
    "    end\n",
    "    o += 1\n",
    "end"
   ]
  },
  {
   "cell_type": "code",
   "execution_count": 31,
   "metadata": {},
   "outputs": [
    {
     "data": {
      "text/plain": [
       "1.5936166f-5"
      ]
     },
     "metadata": {},
     "output_type": "display_data"
    }
   ],
   "source": [
    "# norm(vec(grad_one) - vec(grad_two))\n",
    "# norm(vec(permutedims(grad_two, [2, 1])) - vec(grad_one))"
   ]
  }
 ],
 "metadata": {
  "kernelspec": {
   "display_name": "Julia 1.8.5",
   "language": "julia",
   "name": "julia-1.8"
  },
  "language_info": {
   "file_extension": ".jl",
   "mimetype": "application/julia",
   "name": "julia",
   "version": "1.8.5"
  },
  "orig_nbformat": 4,
  "vscode": {
   "interpreter": {
    "hash": "5c7b89af1651d0b8571dde13640ecdccf7d5a6204171d6ab33e7c296e100e08a"
   }
  }
 },
 "nbformat": 4,
 "nbformat_minor": 2
}
