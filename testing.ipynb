{
 "cells": [
  {
   "cell_type": "code",
   "execution_count": 1,
   "metadata": {},
   "outputs": [
    {
     "name": "stderr",
     "output_type": "stream",
     "text": [
      "\u001b[32m\u001b[1m  Activating\u001b[22m\u001b[39m project at `~/Desktop/Research/Code/dfno`\n"
     ]
    },
    {
     "name": "stderr",
     "output_type": "stream",
     "text": [
      "\u001b[33m\u001b[1m┌ \u001b[22m\u001b[39m\u001b[33m\u001b[1mWarning: \u001b[22m\u001b[39mReplacing docs for `ParametricOperators.A :: Union{Tuple{Any}, Tuple{L}, Tuple{R}, Tuple{D}} where {D, R, L}` in module `ParametricOperators`\n",
      "\u001b[33m\u001b[1m└ \u001b[22m\u001b[39m\u001b[90m@ Base.Docs docs/Docs.jl:240\u001b[39m\n"
     ]
    }
   ],
   "source": [
    "using Pkg\n",
    "\n",
    "Pkg.activate(\"./\")\n",
    "\n",
    "using ParametricOperators"
   ]
  },
  {
   "cell_type": "code",
   "execution_count": 23,
   "metadata": {},
   "outputs": [
    {
     "data": {
      "text/plain": [
       "ParRestriction{ComplexF32}(6, UnitRange{Int64}[1:2])"
      ]
     },
     "metadata": {},
     "output_type": "display_data"
    }
   ],
   "source": [
    "T = Float32\n",
    "\n",
    "pi = ParIdentity(Complex{T}, 10)\n",
    "\n",
    "fx = ParDFT(Complex{T}, 10)\n",
    "rx = ParRestriction(RDT(fx), 10, [1:2, 9:10])\n",
    "\n",
    "fy = ParDFT(T, 10)\n",
    "ry = ParRestriction(RDT(fy), Range(fy), [1:2])"
   ]
  },
  {
   "cell_type": "code",
   "execution_count": 24,
   "metadata": {},
   "outputs": [
    {
     "name": "stdout",
     "output_type": "stream",
     "text": [
      "[1][2]"
     ]
    },
    {
     "data": {
      "text/plain": [
       "ParKron{Float32, ComplexF32, ParametricOperators.NonParametric, Vector{ParCompose{D, ComplexF32, ParametricOperators.Linear, ParametricOperators.NonParametric, F, 2} where {D, F}}, 2}(ParCompose{D, ComplexF32, ParametricOperators.Linear, ParametricOperators.NonParametric, F, 2} where {D, F}[ParCompose{Float32, ComplexF32, ParametricOperators.Linear, ParametricOperators.NonParametric, Vector{ParLinearOperator{D, ComplexF32, ParametricOperators.NonParametric, ParametricOperators.External} where D}, 2}(ParLinearOperator{D, ComplexF32, ParametricOperators.NonParametric, ParametricOperators.External} where D[ParRestriction{ComplexF32}(6, UnitRange{Int64}[1:2]), ParDFT{Float32, ComplexF32}(6, 10)]), ParCompose{ComplexF32, ComplexF32, ParametricOperators.Linear, ParametricOperators.NonParametric, Vector{ParLinearOperator{ComplexF32, ComplexF32, ParametricOperators.NonParametric, ParametricOperators.External}}, 2}(ParLinearOperator{ComplexF32, ComplexF32, ParametricOperators.NonParametric, ParametricOperators.External}[ParRestriction{ComplexF32}(10, UnitRange{Int64}[1:2, 9:10]), ParDFT{ComplexF32, ComplexF32}(10, 10)])], [1, 2])"
      ]
     },
     "metadata": {},
     "output_type": "display_data"
    }
   ],
   "source": [
    "(ry * fy) ⊗ (rx * fx)"
   ]
  },
  {
   "cell_type": "code",
   "execution_count": 25,
   "metadata": {},
   "outputs": [
    {
     "name": "stdout",
     "output_type": "stream",
     "text": [
      "[1, 2][1]"
     ]
    },
    {
     "data": {
      "text/plain": [
       "ParKron{ComplexF32, ComplexF32, ParametricOperators.NonParametric, Vector{ParLinearOperator{ComplexF32, ComplexF32, ParametricOperators.NonParametric, ParametricOperators.External}}, 2}(ParLinearOperator{ComplexF32, ComplexF32, ParametricOperators.NonParametric, ParametricOperators.External}[ParDFT{ComplexF32, ComplexF32}(10, 10), ParIdentity{ComplexF32}(10)], [2, 1])"
      ]
     },
     "metadata": {},
     "output_type": "display_data"
    }
   ],
   "source": [
    "fx ⊗ pi"
   ]
  },
  {
   "cell_type": "code",
   "execution_count": null,
   "metadata": {},
   "outputs": [],
   "source": []
  }
 ],
 "metadata": {
  "kernelspec": {
   "display_name": "Julia 1.8.5",
   "language": "julia",
   "name": "julia-1.8"
  },
  "language_info": {
   "file_extension": ".jl",
   "mimetype": "application/julia",
   "name": "julia",
   "version": "1.8.5"
  }
 },
 "nbformat": 4,
 "nbformat_minor": 2
}
