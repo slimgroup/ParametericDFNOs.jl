{
 "cells": [
  {
   "cell_type": "code",
   "execution_count": 5,
   "metadata": {},
   "outputs": [
    {
     "ename": "",
     "evalue": "",
     "output_type": "error",
     "traceback": [
      "\u001b[1;31mCannot execute code, session has been disposed. Please try restarting the Kernel."
     ]
    },
    {
     "ename": "",
     "evalue": "",
     "output_type": "error",
     "traceback": [
      "\u001b[1;31mThe Kernel crashed while executing code in the the current cell or a previous cell. Please review the code in the cell(s) to identify a possible cause of the failure. Click <a href='https://aka.ms/vscodeJupyterKernelCrash'>here</a> for more info. View Jupyter <a href='command:jupyter.viewOutput'>log</a> for further details."
     ]
    }
   ],
   "source": [
    "using Parameters\n",
    "\n",
    "@with_kw struct ModelConfig\n",
    "    nx::Int = 64\n",
    "    ny::Int = 64\n",
    "    nt::Int = 51\n",
    "    nc_in::Int = 4\n",
    "    nc_mid::Int = 128\n",
    "    nc_lift::Int = 20\n",
    "    nc_out::Int = 1\n",
    "    mx::Int = 4\n",
    "    my::Int = 4\n",
    "    mt::Int = 4\n",
    "    nblocks::Int = 1\n",
    "    dtype::DataType = Float32\n",
    "    partition::Vector{Int} = [1, 4] \n",
    "    TuckerRank::Vector{Int} = [2,2,2,2,2,2] ##need to adjust this\n",
    "end\n",
    "config = ModelConfig()\n",
    "\n",
    "using ParametricOperators\n",
    "\n",
    "mutable struct Model\n",
    "    config::ModelConfig\n",
    "    lifts::ParKron\n",
    "    convs::Vector\n",
    "    sconvs::Vector\n",
    "    biases::Vector\n",
    "    sconv_biases::Vector\n",
    "    projects::Vector\n",
    "    weight_mixes::Vector\n",
    "\n",
    "    #first, function to get Tucker factors (ParMatrix)\n",
    "    function TuckerCompress(size::Vector,rank::Vector,restriction::Vector)\n",
    "        factors = []\n",
    "        n = length(size)\n",
    "        T = config.dtype\n",
    "    \n",
    "        core = ParMatrix(Complex{T},rank[1],prod(rank[2:n]))\n",
    "        push!(factors,ParMatrix(Complex{T},size[1],rank[1]))\n",
    "        for i  = 2:length(size)\n",
    "            push!(factors,ParMatrix(Complex{T},rank[i],size[i]))\n",
    "        end\n",
    "        return ParTucker(core,factors,restriction)\n",
    "    end\n",
    "\n",
    "    function Model(config::ModelConfig)\n",
    "\n",
    "        T = config.dtype\n",
    "        \n",
    "        sconvs = []\n",
    "        convs = []\n",
    "        projects = []\n",
    "        sconv_biases = []\n",
    "        biases = []\n",
    "        weight_mixes = []\n",
    "    \n",
    "        weight_shape = [config.nc_lift, config.nc_lift, 2*config.mx, 2*config.my,\n",
    "        config.mt, config.nblocks]\n",
    "        weight_mix = TuckerCompress(weight_shape,config.TuckerRank,\n",
    "        [config.mx, config.my, config.mt])\n",
    "        push!(weight_mixes, weight_mix)\n",
    "\n",
    "        function spectral_convolution(layer::Int)\n",
    "    \n",
    "            # Build 3D Fourier transform with real-valued FFT along time\n",
    "            fourier_x = ParDFT(Complex{T}, config.nx)\n",
    "            fourier_y = ParDFT(Complex{T}, config.ny)\n",
    "            fourier_t = ParDFT(T, config.nt)\n",
    "    \n",
    "            # Build restrictions to low-frequency modes\n",
    "            restrict_x = ParRestriction(Complex{T}, Range(fourier_x), [1:config.mx, config.nx-config.mx+1:config.nx])\n",
    "            restrict_y = ParRestriction(Complex{T}, Range(fourier_y), [1:config.my, config.ny-config.my+1:config.ny])\n",
    "            restrict_t = ParRestriction(Complex{T}, Range(fourier_t), [1:config.mt])\n",
    "            \n",
    "            restrict_dft = ParKron((restrict_y * fourier_y) ⊗ (restrict_x * fourier_x), (restrict_t * fourier_t) ⊗ ParIdentity(T, config.nc_lift))\n",
    "    \n",
    "            sconv = restrict_dft' * weight_mix(layer) * restrict_dft\n",
    "            # sconv =  weight_mix(layer) \n",
    "\n",
    "    \n",
    "            return sconv\n",
    "        end\n",
    "    \n",
    "        # Lift Channel dimension\n",
    "        lifts = ParKron(ParIdentity(T,config.ny) ⊗ ParIdentity(T,config.nx), ParIdentity(T,config.nt) ⊗ ParMatrix(T, config.nc_lift, config.nc_in, \"ParMatrix_LIFTS:(1)\"))\n",
    "        bias = ParBroadcasted(ParMatrix(T, config.nc_lift, 1, \"ParMatrix_BIAS:(1)\"))\n",
    "    \n",
    "        # lifts = distribute(lifts, config.partition)\n",
    "    \n",
    "        push!(biases, bias)\n",
    "    \n",
    "        for i in 1:config.nblocks\n",
    "    \n",
    "            sconv_layer = spectral_convolution(i)\n",
    "            conv_layer = ParKron(ParIdentity(T,config.ny) ⊗ ParIdentity(T,config.nx), ParIdentity(T,config.nt) ⊗ ParMatrix(T, config.nc_lift, config.nc_lift, \"ParMatrix_SCONV:($(i))\"))\n",
    "            bias = ParBroadcasted(ParMatrix(T, config.nc_lift, 1, \"ParMatrix_SCONV:($(i))\"))\n",
    "    \n",
    "            # conv_layer = distribute(conv_layer, config.partition)\n",
    "    \n",
    "            push!(sconv_biases, bias)\n",
    "            push!(sconvs, sconv_layer)\n",
    "            push!(convs, conv_layer)\n",
    "        end\n",
    "    \n",
    "        # Uplift channel dimension once more\n",
    "        uc = ParKron(ParIdentity(T,config.ny) ⊗ ParIdentity(T,config.nx), ParIdentity(T,config.nt) ⊗ ParMatrix(T, config.nc_mid, config.nc_lift, \"ParMatrix_LIFTS:(2)\"))\n",
    "        bias = ParBroadcasted(ParMatrix(T, config.nc_mid, 1, \"ParMatrix_BIAS:(2)\"))\n",
    "    \n",
    "        uc = distribute(uc, config.partition)\n",
    "    \n",
    "        push!(biases, bias)\n",
    "        push!(projects, uc)\n",
    "    \n",
    "        # Project channel dimension\n",
    "        pc = ParKron(ParIdentity(T,config.ny) ⊗ ParIdentity(T,config.nx), ParIdentity(T,config.nt) ⊗ ParMatrix(T, config.nc_out, config.nc_mid, \"ParMatrix_LIFTS:(3)\"))\n",
    "        bias = ParBroadcasted(ParMatrix(T, config.nc_out, 1, \"ParMatrix_BIAS:(3)\"))\n",
    "    \n",
    "        pc = distribute(pc, config.partition)\n",
    "    \n",
    "        push!(biases, bias)\n",
    "        push!(projects, pc)\n",
    "    \n",
    "        new(config, lifts, convs, sconvs, biases, sconv_biases, projects, weight_mixes)\n",
    "    end\n",
    "end\n",
    "Model(config)"
   ]
  },
  {
   "cell_type": "code",
   "execution_count": 1,
   "metadata": {},
   "outputs": [
    {
     "name": "stderr",
     "output_type": "stream",
     "text": [
      "\u001b[32m\u001b[1m  Activating\u001b[22m\u001b[39m project at `~/Documents/Research/dfno`\n",
      "\u001b[32m\u001b[1mPrecompiling\u001b[22m\u001b[39m ParametricOperators\n",
      "\u001b[91m  ✗ \u001b[39m\u001b[90mCairo_jll\u001b[39m\n",
      "\u001b[91m  ✗ \u001b[39m\u001b[90mHarfBuzz_jll\u001b[39m\n",
      "\u001b[91m  ✗ \u001b[39m\u001b[90mPango_jll\u001b[39m\n",
      "\u001b[91m  ✗ \u001b[39m\u001b[90mGraphviz_jll\u001b[39m\n",
      "\u001b[91m  ✗ \u001b[39m\u001b[90mGraphViz\u001b[39m\n",
      "\u001b[36m\u001b[1m        Info\u001b[22m\u001b[39m Given ParametricOperators was explicitly requested, output will be shown live \u001b[0K\n",
      "\u001b[0K\u001b[33m\u001b[1m┌ \u001b[22m\u001b[39m\u001b[33m\u001b[1mWarning: \u001b[22m\u001b[39mPackage cuDNN not found in current path.\n",
      "\u001b[0K\u001b[33m\u001b[1m│ \u001b[22m\u001b[39m- Run `import Pkg; Pkg.add(\"cuDNN\")` to install the cuDNN package, then restart julia.\n",
      "\u001b[0K\u001b[33m\u001b[1m│ \u001b[22m\u001b[39m- If cuDNN is not installed, some Flux functionalities will not be available when running on the GPU.\n",
      "\u001b[0K\u001b[33m\u001b[1m└ \u001b[22m\u001b[39m\u001b[90m@ FluxCUDAExt ~/.julia/packages/Flux/maQWh/ext/FluxCUDAExt/FluxCUDAExt.jl:57\u001b[39m\n",
      "\u001b[32m  ✓ \u001b[39mParametricOperators\n",
      "  1 dependency successfully precompiled in 19 seconds. 200 already precompiled.\n",
      "  \u001b[33m1\u001b[39m dependency had output during precompilation:\u001b[33m\n",
      "┌ \u001b[39mParametricOperators\u001b[33m\n",
      "│  \u001b[39m[Output was shown above]\u001b[33m\n",
      "└  \u001b[39m\n",
      "\u001b[33m\u001b[1m┌ \u001b[22m\u001b[39m\u001b[33m\u001b[1mWarning: \u001b[22m\u001b[39mPackage cuDNN not found in current path.\n",
      "\u001b[33m\u001b[1m│ \u001b[22m\u001b[39m- Run `import Pkg; Pkg.add(\"cuDNN\")` to install the cuDNN package, then restart julia.\n",
      "\u001b[33m\u001b[1m│ \u001b[22m\u001b[39m- If cuDNN is not installed, some Flux functionalities will not be available when running on the GPU.\n",
      "\u001b[33m\u001b[1m└ \u001b[22m\u001b[39m\u001b[90m@ FluxCUDAExt ~/.julia/packages/Flux/maQWh/ext/FluxCUDAExt/FluxCUDAExt.jl:57\u001b[39m\n"
     ]
    },
    {
     "data": {
      "text/plain": [
       "ParTucker{Float32, 5}(ParMatrix{Float32}(2, 16, UUID(\"3e8b8d8c-cef5-4cc2-a102-595b509ca929\")), Any[ParMatrix{Float32}(5, 2, UUID(\"7bee2499-7727-4f00-acfb-9fa850fdcf28\")), ParMatrix{Float32}(2, 5, UUID(\"6295d45e-68cf-404f-b8f1-e61181f131fa\")), ParMatrix{Float32}(2, 4, UUID(\"98362e36-7788-46a4-a162-60d1d02de79c\")), ParMatrix{Float32}(2, 4, UUID(\"bc7d10e7-4f4b-40ad-a2d2-cc5348b7a905\")), ParMatrix{Float32}(2, 2, UUID(\"fbb5ecfd-e3d3-43fd-80a0-ffa4ec85ada1\"))], [2, 2, 2], UUID(\"9d13315f-928f-48c1-bbe4-305bc94b4ba4\"))"
      ]
     },
     "execution_count": 1,
     "metadata": {},
     "output_type": "execute_result"
    }
   ],
   "source": [
    "\n",
    "using Pkg\n",
    "Pkg.activate(\"./\")\n",
    "using ParametricOperators\n",
    "\n",
    "\n",
    "function TuckerCompress(size::Vector,rank::Vector,restriction::Vector)\n",
    "    factors = []\n",
    "    n = length(size)\n",
    "    \n",
    "    core = ParMatrix(T,rank[1],prod(rank[2:n]))\n",
    "    push!(factors,ParMatrix(T,size[1],rank[1]))\n",
    "    for i  = 2:length(size)\n",
    "        push!(factors,ParMatrix(T,rank[i],size[i]))\n",
    "    end\n",
    "    return ParTucker(core,factors,restriction)\n",
    "end\n",
    "\n",
    "T = Float32\n",
    "i = 5; b = 3; nx = 6; ny = 6; nt = 6; o = 5\n",
    "mx = 2; my = 2; mt = 2\n",
    "layer = 1\n",
    "rank = [2,2,2,2,2]\n",
    "tensor_size = [o,i,2*mx,2*my,mt]\n",
    "restr = [2,2,2]\n",
    "tensor  = TuckerCompress(tensor_size,rank,restr)\n"
   ]
  },
  {
   "cell_type": "code",
   "execution_count": 2,
   "metadata": {},
   "outputs": [
    {
     "data": {
      "text/plain": [
       "Dict{String, Any} with 6 entries:\n",
       "  \"rank\"        => Any[2, 2, 2, 2, 2]\n",
       "  \"shape\"       => Any[5, 5, 4, 4, 2]\n",
       "  \"T\"           => \"Float32\"\n",
       "  \"id\"          => \"UUID:9d13315f-928f-48c1-bbe4-305bc94b4ba4\"\n",
       "  \"restriction\" => [2, 2, 2]\n",
       "  \"type\"        => \"ParTucker\""
      ]
     },
     "execution_count": 2,
     "metadata": {},
     "output_type": "execute_result"
    }
   ],
   "source": [
    "d = ParametricOperators.to_Dict(tensor)"
   ]
  },
  {
   "cell_type": "code",
   "execution_count": 3,
   "metadata": {},
   "outputs": [
    {
     "data": {
      "text/plain": [
       "ParTucker{Float32, 5}(ParMatrix{Float32}(2, 16, UUID(\"797d86a4-c132-4d9a-ba7c-be6956677e57\")), Any[ParMatrix{Float32}(5, 2, UUID(\"a70f7555-599d-4dc4-b3fb-53ca263e05ca\")), ParMatrix{Float32}(2, 5, UUID(\"ab320ae0-00f9-4080-bb8f-d1ce813ab629\")), ParMatrix{Float32}(2, 4, UUID(\"de352a5c-e5b0-41e0-885e-51f7363855d1\")), ParMatrix{Float32}(2, 4, UUID(\"39f98607-940a-41eb-b0ac-b9e721fef7ee\")), ParMatrix{Float32}(2, 2, UUID(\"e69945e2-8592-4c89-bd95-7c27ec31a837\"))], [2, 2, 2], UUID(\"9d13315f-928f-48c1-bbe4-305bc94b4ba4\"))"
      ]
     },
     "execution_count": 3,
     "metadata": {},
     "output_type": "execute_result"
    }
   ],
   "source": [
    "ParametricOperators.from_Dict(typeof(tensor),d)"
   ]
  },
  {
   "cell_type": "code",
   "execution_count": 4,
   "metadata": {},
   "outputs": [
    {
     "ename": "LoadError",
     "evalue": "UndefVarError: `config` not defined",
     "output_type": "error",
     "traceback": [
      "UndefVarError: `config` not defined",
      "",
      "Stacktrace:",
      " [1] top-level scope",
      "   @ In[4]:27"
     ]
    }
   ],
   "source": [
    "\n",
    "    # config::ModelConfig\n",
    "    # lifts::ParKron\n",
    "    # convs::Vector\n",
    "    # sconvs::Vector\n",
    "    # biases::Vector\n",
    "    # sconv_biases::Vector\n",
    "    # projects::Vector\n",
    "    # weight_mixes::Vector\n",
    "\n",
    "    #first, function to get Tucker factors (ParMatrix)\n",
    "    function TuckerCompress(size::Vector,rank::Vector,restriction::Vector)\n",
    "        factors = []\n",
    "        n = length(size)\n",
    "        T = config.dtype\n",
    "    \n",
    "        core = ParMatrix(Complex{T},rank[1],prod(rank[2:n]))\n",
    "        push!(factors,ParMatrix(Complex{T},size[1],rank[1]))\n",
    "        for i  = 2:length(size)\n",
    "            push!(factors,ParMatrix(Complex{T},rank[i],size[i]))\n",
    "        end\n",
    "        return ParTucker(core,factors,restriction)\n",
    "    end\n",
    "\n",
    "    \n",
    "\n",
    "        T = config.dtype\n",
    "        \n",
    "        sconvs = []\n",
    "        convs = []\n",
    "        projects = []\n",
    "        sconv_biases = []\n",
    "        biases = []\n",
    "        weight_mixes = []\n",
    "    \n",
    "        weight_shape = [config.nc_lift, config.nc_lift, 2*config.mx, 2*config.my,\n",
    "        config.mt, config.nblocks]\n",
    "        weight_mix = TuckerCompress(weight_shape,config.TuckerRank,\n",
    "        [config.mx, config.my, config.mt])\n",
    "        push!(weight_mixes, weight_mix)\n",
    "\n",
    "    \n",
    "            # Build 3D Fourier transform with real-valued FFT along time\n",
    "            fourier_x = ParDFT(Complex{T}, config.nx)\n",
    "            fourier_y = ParDFT(Complex{T}, config.ny)\n",
    "            fourier_t = ParDFT(T, config.nt)\n",
    "    \n",
    "            # Build restrictions to low-frequency modes\n",
    "            restrict_x = ParRestriction(Complex{T}, Range(fourier_x), [1:config.mx, config.nx-config.mx+1:config.nx])\n",
    "            restrict_y = ParRestriction(Complex{T}, Range(fourier_y), [1:config.my, config.ny-config.my+1:config.ny])\n",
    "            restrict_t = ParRestriction(Complex{T}, Range(fourier_t), [1:config.mt])\n",
    "            \n",
    "            restrict_dft = ParKron((restrict_y * fourier_y) ⊗ (restrict_x * fourier_x), (restrict_t * fourier_t) ⊗ ParIdentity(T, config.nc_lift))\n",
    "    \n"
   ]
  },
  {
   "cell_type": "code",
   "execution_count": 32,
   "metadata": {},
   "outputs": [
    {
     "name": "stdout",
     "output_type": "stream",
     "text": [
      "5120\n",
      "5120\n",
      "ComplexF32\n"
     ]
    },
    {
     "data": {
      "text/plain": [
       "Float32"
      ]
     },
     "execution_count": 32,
     "metadata": {},
     "output_type": "execute_result"
    }
   ],
   "source": [
    "println(Range(restrict_dft))\n",
    "println(Domain(weight_mix(layer)))\n",
    "\n",
    "println(RDT(restrict_dft))\n",
    "DDT(weight_mix(layer))"
   ]
  },
  {
   "cell_type": "code",
   "execution_count": 27,
   "metadata": {},
   "outputs": [
    {
     "data": {
      "text/plain": [
       "ParTucker{Float32, 6}(ParMatrix{Float32}(2, 32, UUID(\"7edea558-cc07-444f-adff-e5c331cb5188\")), ParMatrix{Float32}[ParMatrix{Float32}(20, 2, UUID(\"e4a47139-9e7e-475a-be97-1e7af840b96e\")), ParMatrix{Float32}(2, 20, UUID(\"26016d0e-d536-4e90-9128-b127d0143446\")), ParMatrix{Float32}(2, 8, UUID(\"2ec1b5c0-0fbd-4f28-a652-60613c01a4ed\")), ParMatrix{Float32}(2, 8, UUID(\"c084d809-5c17-4305-a22d-954abfc8c488\")), ParMatrix{Float32}(2, 4, UUID(\"dfc74ee7-749e-4b2f-b731-28855d975ce0\")), ParMatrix{Float32}(2, 1, UUID(\"22a231ce-a5f9-4203-bed5-58b946a9af60\"))], [4, 4, 4])"
      ]
     },
     "execution_count": 27,
     "metadata": {},
     "output_type": "execute_result"
    }
   ],
   "source": [
    "weight_mix(layer)"
   ]
  },
  {
   "cell_type": "code",
   "execution_count": 6,
   "metadata": {},
   "outputs": [
    {
     "data": {
      "text/plain": [
       "ParCompose{Float32, Float32, ParametricOperators.Linear, ParametricOperators.Parametric, Vector{ParLinearOperator{D, R, P, T} where {D, R, P<:ParametricOperators.Parametricity, T<:ParametricOperators.ASTLocation}}, 3}(ParLinearOperator{D, R, P, T} where {D, R, P<:ParametricOperators.Parametricity, T<:ParametricOperators.ASTLocation}[ParKron{ComplexF32, Float32, ParametricOperators.NonParametric, Vector{ParKron{ComplexF32, R, ParametricOperators.NonParametric, F, 2} where {R, F}}, 2}(ParKron{ComplexF32, R, ParametricOperators.NonParametric, F, 2} where {R, F}[ParKron{ComplexF32, ComplexF32, ParametricOperators.NonParametric, Vector{ParCompose{ComplexF32, ComplexF32, ParametricOperators.Linear, ParametricOperators.NonParametric, Vector{ParAdjoint{ComplexF32, ComplexF32, ParametricOperators.NonParametric}}, 2}}, 2}(ParCompose{ComplexF32, ComplexF32, ParametricOperators.Linear, ParametricOperators.NonParametric, Vector{ParAdjoint{ComplexF32, ComplexF32, ParametricOperators.NonParametric}}, 2}[ParCompose{ComplexF32, ComplexF32, ParametricOperators.Linear, ParametricOperators.NonParametric, Vector{ParAdjoint{ComplexF32, ComplexF32, ParametricOperators.NonParametric}}, 2}(ParAdjoint{ComplexF32, ComplexF32, ParametricOperators.NonParametric}[ParAdjoint{ComplexF32, ComplexF32, ParametricOperators.NonParametric, ParDFT{ComplexF32, ComplexF32}}(ParDFT{ComplexF32, ComplexF32}(64, 64)), ParAdjoint{ComplexF32, ComplexF32, ParametricOperators.NonParametric, ParRestriction{ComplexF32}}(ParRestriction{ComplexF32}(64, UnitRange{Int64}[1:4, 61:64]))]), ParCompose{ComplexF32, ComplexF32, ParametricOperators.Linear, ParametricOperators.NonParametric, Vector{ParAdjoint{ComplexF32, ComplexF32, ParametricOperators.NonParametric}}, 2}(ParAdjoint{ComplexF32, ComplexF32, ParametricOperators.NonParametric}[ParAdjoint{ComplexF32, ComplexF32, ParametricOperators.NonParametric, ParDFT{ComplexF32, ComplexF32}}(ParDFT{ComplexF32, ComplexF32}(64, 64)), ParAdjoint{ComplexF32, ComplexF32, ParametricOperators.NonParametric, ParRestriction{ComplexF32}}(ParRestriction{ComplexF32}(64, UnitRange{Int64}[1:4, 61:64]))])], [1, 2]), ParKron{ComplexF32, Float32, ParametricOperators.NonParametric, Vector{ParLinearOperator{D, Float32, ParametricOperators.NonParametric, T} where {D, T<:ParametricOperators.ASTLocation}}, 2}(ParLinearOperator{D, Float32, ParametricOperators.NonParametric, T} where {D, T<:ParametricOperators.ASTLocation}[ParCompose{ComplexF32, Float32, ParametricOperators.Linear, ParametricOperators.NonParametric, Vector{ParAdjoint{D, ComplexF32, ParametricOperators.NonParametric} where D}, 2}(ParAdjoint{D, ComplexF32, ParametricOperators.NonParametric} where D[ParAdjoint{Float32, ComplexF32, ParametricOperators.NonParametric, ParDFT{Float32, ComplexF32}}(ParDFT{Float32, ComplexF32}(26, 51)), ParAdjoint{ComplexF32, ComplexF32, ParametricOperators.NonParametric, ParRestriction{ComplexF32}}(ParRestriction{ComplexF32}(26, UnitRange{Int64}[1:4]))]), ParIdentity{Float32}(20)], [1, 2])], [1, 2]), ParTucker{ComplexF32, 6}(ParMatrix{ComplexF32}(2, 32, UUID(\"887fe90f-87a3-4583-a031-c4ef25e84913\")), ParMatrix{ComplexF32}[ParMatrix{ComplexF32}(20, 2, UUID(\"428b6043-a6c9-4b0a-87e8-2de86911c8f9\")), ParMatrix{ComplexF32}(2, 20, UUID(\"093a9bb4-438f-440a-bb36-b9495df6e7ec\")), ParMatrix{ComplexF32}(2, 8, UUID(\"1d48a381-3ecf-4ad9-838a-11312d6dea71\")), ParMatrix{ComplexF32}(2, 8, UUID(\"ae397853-61f9-433d-b4e2-e13294363095\")), ParMatrix{ComplexF32}(2, 4, UUID(\"106c93fe-fedb-4319-945b-0c0c3bd66827\")), ParMatrix{ComplexF32}(2, 1, UUID(\"c4bba469-6d93-4094-854c-f624d0944e11\"))], [4, 4, 4]), ParKron{Float32, ComplexF32, ParametricOperators.NonParametric, Vector{ParKron{D, ComplexF32, ParametricOperators.NonParametric, F, 2} where {D, F}}, 2}(ParKron{D, ComplexF32, ParametricOperators.NonParametric, F, 2} where {D, F}[ParKron{ComplexF32, ComplexF32, ParametricOperators.NonParametric, Vector{ParCompose{ComplexF32, ComplexF32, ParametricOperators.Linear, ParametricOperators.NonParametric, Vector{ParLinearOperator{ComplexF32, ComplexF32, ParametricOperators.NonParametric, ParametricOperators.External}}, 2}}, 2}(ParCompose{ComplexF32, ComplexF32, ParametricOperators.Linear, ParametricOperators.NonParametric, Vector{ParLinearOperator{ComplexF32, ComplexF32, ParametricOperators.NonParametric, ParametricOperators.External}}, 2}[ParCompose{ComplexF32, ComplexF32, ParametricOperators.Linear, ParametricOperators.NonParametric, Vector{ParLinearOperator{ComplexF32, ComplexF32, ParametricOperators.NonParametric, ParametricOperators.External}}, 2}(ParLinearOperator{ComplexF32, ComplexF32, ParametricOperators.NonParametric, ParametricOperators.External}[ParRestriction{ComplexF32}(64, UnitRange{Int64}[1:4, 61:64]), ParDFT{ComplexF32, ComplexF32}(64, 64)]), ParCompose{ComplexF32, ComplexF32, ParametricOperators.Linear, ParametricOperators.NonParametric, Vector{ParLinearOperator{ComplexF32, ComplexF32, ParametricOperators.NonParametric, ParametricOperators.External}}, 2}(ParLinearOperator{ComplexF32, ComplexF32, ParametricOperators.NonParametric, ParametricOperators.External}[ParRestriction{ComplexF32}(64, UnitRange{Int64}[1:4, 61:64]), ParDFT{ComplexF32, ComplexF32}(64, 64)])], [2, 1]), ParKron{Float32, ComplexF32, ParametricOperators.NonParametric, Vector{ParLinearOperator{Float32, R, ParametricOperators.NonParametric, T} where {R, T<:ParametricOperators.ASTLocation}}, 2}(ParLinearOperator{Float32, R, ParametricOperators.NonParametric, T} where {R, T<:ParametricOperators.ASTLocation}[ParCompose{Float32, ComplexF32, ParametricOperators.Linear, ParametricOperators.NonParametric, Vector{ParLinearOperator{D, ComplexF32, ParametricOperators.NonParametric, ParametricOperators.External} where D}, 2}(ParLinearOperator{D, ComplexF32, ParametricOperators.NonParametric, ParametricOperators.External} where D[ParRestriction{ComplexF32}(26, UnitRange{Int64}[1:4]), ParDFT{Float32, ComplexF32}(26, 51)]), ParIdentity{Float32}(20)], [2, 1])], [2, 1])])"
      ]
     },
     "execution_count": 6,
     "metadata": {},
     "output_type": "execute_result"
    }
   ],
   "source": [
    "layer = 1\n",
    "sconv =  restrict_dft'*weight_mix(layer)* restrict_dft\n",
    "\n",
    "    \n",
    "        \n",
    "    \n"
   ]
  },
  {
   "cell_type": "code",
   "execution_count": null,
   "metadata": {},
   "outputs": [],
   "source": []
  },
  {
   "cell_type": "code",
   "execution_count": null,
   "metadata": {},
   "outputs": [],
   "source": []
  },
  {
   "cell_type": "code",
   "execution_count": 34,
   "metadata": {},
   "outputs": [
    {
     "ename": "",
     "evalue": "",
     "output_type": "error",
     "traceback": [
      "\u001b[1;31mCannot execute code, session has been disposed. Please try restarting the Kernel."
     ]
    },
    {
     "ename": "",
     "evalue": "",
     "output_type": "error",
     "traceback": [
      "\u001b[1;31mThe Kernel crashed while executing code in the the current cell or a previous cell. Please review the code in the cell(s) to identify a possible cause of the failure. Click <a href='https://aka.ms/vscodeJupyterKernelCrash'>here</a> for more info. View Jupyter <a href='command:jupyter.viewOutput'>log</a> for further details."
     ]
    }
   ],
   "source": []
  }
 ],
 "metadata": {
  "kernelspec": {
   "display_name": "Julia 1.10.0",
   "language": "julia",
   "name": "julia-1.10"
  },
  "language_info": {
   "file_extension": ".jl",
   "mimetype": "application/julia",
   "name": "julia",
   "version": "1.10.0"
  },
  "orig_nbformat": 4
 },
 "nbformat": 4,
 "nbformat_minor": 2
}
